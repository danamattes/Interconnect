{
 "cells": [
  {
   "cell_type": "markdown",
   "metadata": {
    "slideshow": {
     "slide_type": ""
    },
    "tags": []
   },
   "source": [
    "# Interconnect"
   ]
  },
  {
   "cell_type": "markdown",
   "metadata": {},
   "source": [
    "### Introduction"
   ]
  },
  {
   "cell_type": "markdown",
   "metadata": {},
   "source": [
    "The telecom operator Interconnect would like to be able to forecast their churn of clients. If it's discovered that a user is planning to leave, they will be offered promotional codes and special plan options. Interconnect's marketing team has collected some of their clientele's personal data, including information about their plans and contracts.\n",
    "\n",
    "For this project, we will first start with exploring the data, making sure we don't have missing information, keeping only the columns relevant for the model, and creating some extra columns that might help with  getting a deeper understanding of the info.\n",
    "\n",
    "Then we will proceed with training several models while evaluating their accuracy and ROC-AUC scores in order to select the best model for this task. These all will be evaluated against a random model. Once the best model has been selected, we will proceed with the final test on some part of the data that will be used only for this goal. "
   ]
  },
  {
   "cell_type": "markdown",
   "metadata": {},
   "source": [
    "### Initialization"
   ]
  },
  {
   "cell_type": "code",
   "execution_count": 1,
   "metadata": {},
   "outputs": [],
   "source": [
    "#Importing all necesary libraries and functions\n",
    "import pandas as pd\n",
    "import seaborn as sns\n",
    "import matplotlib.pyplot as plt\n",
    "import statistics\n",
    "from sklearn.model_selection import train_test_split\n",
    "from sklearn.preprocessing import OneHotEncoder\n",
    "from sklearn.preprocessing import StandardScaler\n",
    "from sklearn.utils import shuffle\n",
    "from sklearn.dummy import DummyClassifier\n",
    "from sklearn.metrics import roc_auc_score\n",
    "from sklearn.metrics import roc_curve\n",
    "from sklearn.metrics import accuracy_score\n",
    "from sklearn.tree import DecisionTreeClassifier\n",
    "from sklearn.ensemble import RandomForestClassifier\n",
    "from sklearn.linear_model import LogisticRegression\n",
    "from sklearn.neighbors import KNeighborsClassifier\n",
    "from catboost import CatBoostClassifier\n",
    "from sklearn.model_selection import GridSearchCV\n",
    "import xgboost as xgb"
   ]
  },
  {
   "cell_type": "code",
   "execution_count": 2,
   "metadata": {},
   "outputs": [],
   "source": [
    "#Reading the data\n",
    "contract = pd.read_csv('/datasets/final_provider/contract.csv')\n",
    "personal = pd.read_csv('/datasets/final_provider/personal.csv')\n",
    "internet = pd.read_csv('/datasets/final_provider/internet.csv')\n",
    "phone = pd.read_csv('/datasets/final_provider/phone.csv')"
   ]
  },
  {
   "cell_type": "markdown",
   "metadata": {},
   "source": [
    "### Exploring the data"
   ]
  },
  {
   "cell_type": "markdown",
   "metadata": {},
   "source": [
    "We were provided with 4 databases: contract, personal, internet and phone. In this section swe will obtain general information from each one of them and we will perform some exploration on them."
   ]
  },
  {
   "cell_type": "markdown",
   "metadata": {},
   "source": [
    "### Contract database"
   ]
  },
  {
   "cell_type": "code",
   "execution_count": 3,
   "metadata": {},
   "outputs": [
    {
     "name": "stdout",
     "output_type": "stream",
     "text": [
      "<class 'pandas.core.frame.DataFrame'>\n",
      "RangeIndex: 7043 entries, 0 to 7042\n",
      "Data columns (total 8 columns):\n",
      " #   Column            Non-Null Count  Dtype  \n",
      "---  ------            --------------  -----  \n",
      " 0   customerID        7043 non-null   object \n",
      " 1   BeginDate         7043 non-null   object \n",
      " 2   EndDate           7043 non-null   object \n",
      " 3   Type              7043 non-null   object \n",
      " 4   PaperlessBilling  7043 non-null   object \n",
      " 5   PaymentMethod     7043 non-null   object \n",
      " 6   MonthlyCharges    7043 non-null   float64\n",
      " 7   TotalCharges      7043 non-null   object \n",
      "dtypes: float64(1), object(7)\n",
      "memory usage: 440.3+ KB\n"
     ]
    },
    {
     "data": {
      "text/plain": [
       "None"
      ]
     },
     "metadata": {},
     "output_type": "display_data"
    },
    {
     "data": {
      "text/html": [
       "<div>\n",
       "<style scoped>\n",
       "    .dataframe tbody tr th:only-of-type {\n",
       "        vertical-align: middle;\n",
       "    }\n",
       "\n",
       "    .dataframe tbody tr th {\n",
       "        vertical-align: top;\n",
       "    }\n",
       "\n",
       "    .dataframe thead th {\n",
       "        text-align: right;\n",
       "    }\n",
       "</style>\n",
       "<table border=\"1\" class=\"dataframe\">\n",
       "  <thead>\n",
       "    <tr style=\"text-align: right;\">\n",
       "      <th></th>\n",
       "      <th>customerID</th>\n",
       "      <th>BeginDate</th>\n",
       "      <th>EndDate</th>\n",
       "      <th>Type</th>\n",
       "      <th>PaperlessBilling</th>\n",
       "      <th>PaymentMethod</th>\n",
       "      <th>MonthlyCharges</th>\n",
       "      <th>TotalCharges</th>\n",
       "    </tr>\n",
       "  </thead>\n",
       "  <tbody>\n",
       "    <tr>\n",
       "      <th>count</th>\n",
       "      <td>7043</td>\n",
       "      <td>7043</td>\n",
       "      <td>7043</td>\n",
       "      <td>7043</td>\n",
       "      <td>7043</td>\n",
       "      <td>7043</td>\n",
       "      <td>7043.000000</td>\n",
       "      <td>7043</td>\n",
       "    </tr>\n",
       "    <tr>\n",
       "      <th>unique</th>\n",
       "      <td>7043</td>\n",
       "      <td>77</td>\n",
       "      <td>5</td>\n",
       "      <td>3</td>\n",
       "      <td>2</td>\n",
       "      <td>4</td>\n",
       "      <td>NaN</td>\n",
       "      <td>6531</td>\n",
       "    </tr>\n",
       "    <tr>\n",
       "      <th>top</th>\n",
       "      <td>1293-BSEUN</td>\n",
       "      <td>2014-02-01</td>\n",
       "      <td>No</td>\n",
       "      <td>Month-to-month</td>\n",
       "      <td>Yes</td>\n",
       "      <td>Electronic check</td>\n",
       "      <td>NaN</td>\n",
       "      <td>20.2</td>\n",
       "    </tr>\n",
       "    <tr>\n",
       "      <th>freq</th>\n",
       "      <td>1</td>\n",
       "      <td>366</td>\n",
       "      <td>5174</td>\n",
       "      <td>3875</td>\n",
       "      <td>4171</td>\n",
       "      <td>2365</td>\n",
       "      <td>NaN</td>\n",
       "      <td>11</td>\n",
       "    </tr>\n",
       "    <tr>\n",
       "      <th>mean</th>\n",
       "      <td>NaN</td>\n",
       "      <td>NaN</td>\n",
       "      <td>NaN</td>\n",
       "      <td>NaN</td>\n",
       "      <td>NaN</td>\n",
       "      <td>NaN</td>\n",
       "      <td>64.761692</td>\n",
       "      <td>NaN</td>\n",
       "    </tr>\n",
       "    <tr>\n",
       "      <th>std</th>\n",
       "      <td>NaN</td>\n",
       "      <td>NaN</td>\n",
       "      <td>NaN</td>\n",
       "      <td>NaN</td>\n",
       "      <td>NaN</td>\n",
       "      <td>NaN</td>\n",
       "      <td>30.090047</td>\n",
       "      <td>NaN</td>\n",
       "    </tr>\n",
       "    <tr>\n",
       "      <th>min</th>\n",
       "      <td>NaN</td>\n",
       "      <td>NaN</td>\n",
       "      <td>NaN</td>\n",
       "      <td>NaN</td>\n",
       "      <td>NaN</td>\n",
       "      <td>NaN</td>\n",
       "      <td>18.250000</td>\n",
       "      <td>NaN</td>\n",
       "    </tr>\n",
       "    <tr>\n",
       "      <th>25%</th>\n",
       "      <td>NaN</td>\n",
       "      <td>NaN</td>\n",
       "      <td>NaN</td>\n",
       "      <td>NaN</td>\n",
       "      <td>NaN</td>\n",
       "      <td>NaN</td>\n",
       "      <td>35.500000</td>\n",
       "      <td>NaN</td>\n",
       "    </tr>\n",
       "    <tr>\n",
       "      <th>50%</th>\n",
       "      <td>NaN</td>\n",
       "      <td>NaN</td>\n",
       "      <td>NaN</td>\n",
       "      <td>NaN</td>\n",
       "      <td>NaN</td>\n",
       "      <td>NaN</td>\n",
       "      <td>70.350000</td>\n",
       "      <td>NaN</td>\n",
       "    </tr>\n",
       "    <tr>\n",
       "      <th>75%</th>\n",
       "      <td>NaN</td>\n",
       "      <td>NaN</td>\n",
       "      <td>NaN</td>\n",
       "      <td>NaN</td>\n",
       "      <td>NaN</td>\n",
       "      <td>NaN</td>\n",
       "      <td>89.850000</td>\n",
       "      <td>NaN</td>\n",
       "    </tr>\n",
       "    <tr>\n",
       "      <th>max</th>\n",
       "      <td>NaN</td>\n",
       "      <td>NaN</td>\n",
       "      <td>NaN</td>\n",
       "      <td>NaN</td>\n",
       "      <td>NaN</td>\n",
       "      <td>NaN</td>\n",
       "      <td>118.750000</td>\n",
       "      <td>NaN</td>\n",
       "    </tr>\n",
       "  </tbody>\n",
       "</table>\n",
       "</div>"
      ],
      "text/plain": [
       "        customerID   BeginDate EndDate            Type PaperlessBilling  \\\n",
       "count         7043        7043    7043            7043             7043   \n",
       "unique        7043          77       5               3                2   \n",
       "top     1293-BSEUN  2014-02-01      No  Month-to-month              Yes   \n",
       "freq             1         366    5174            3875             4171   \n",
       "mean           NaN         NaN     NaN             NaN              NaN   \n",
       "std            NaN         NaN     NaN             NaN              NaN   \n",
       "min            NaN         NaN     NaN             NaN              NaN   \n",
       "25%            NaN         NaN     NaN             NaN              NaN   \n",
       "50%            NaN         NaN     NaN             NaN              NaN   \n",
       "75%            NaN         NaN     NaN             NaN              NaN   \n",
       "max            NaN         NaN     NaN             NaN              NaN   \n",
       "\n",
       "           PaymentMethod  MonthlyCharges TotalCharges  \n",
       "count               7043     7043.000000         7043  \n",
       "unique                 4             NaN         6531  \n",
       "top     Electronic check             NaN         20.2  \n",
       "freq                2365             NaN           11  \n",
       "mean                 NaN       64.761692          NaN  \n",
       "std                  NaN       30.090047          NaN  \n",
       "min                  NaN       18.250000          NaN  \n",
       "25%                  NaN       35.500000          NaN  \n",
       "50%                  NaN       70.350000          NaN  \n",
       "75%                  NaN       89.850000          NaN  \n",
       "max                  NaN      118.750000          NaN  "
      ]
     },
     "metadata": {},
     "output_type": "display_data"
    },
    {
     "data": {
      "text/html": [
       "<div>\n",
       "<style scoped>\n",
       "    .dataframe tbody tr th:only-of-type {\n",
       "        vertical-align: middle;\n",
       "    }\n",
       "\n",
       "    .dataframe tbody tr th {\n",
       "        vertical-align: top;\n",
       "    }\n",
       "\n",
       "    .dataframe thead th {\n",
       "        text-align: right;\n",
       "    }\n",
       "</style>\n",
       "<table border=\"1\" class=\"dataframe\">\n",
       "  <thead>\n",
       "    <tr style=\"text-align: right;\">\n",
       "      <th></th>\n",
       "      <th>customerID</th>\n",
       "      <th>BeginDate</th>\n",
       "      <th>EndDate</th>\n",
       "      <th>Type</th>\n",
       "      <th>PaperlessBilling</th>\n",
       "      <th>PaymentMethod</th>\n",
       "      <th>MonthlyCharges</th>\n",
       "      <th>TotalCharges</th>\n",
       "    </tr>\n",
       "  </thead>\n",
       "  <tbody>\n",
       "    <tr>\n",
       "      <th>0</th>\n",
       "      <td>7590-VHVEG</td>\n",
       "      <td>2020-01-01</td>\n",
       "      <td>No</td>\n",
       "      <td>Month-to-month</td>\n",
       "      <td>Yes</td>\n",
       "      <td>Electronic check</td>\n",
       "      <td>29.85</td>\n",
       "      <td>29.85</td>\n",
       "    </tr>\n",
       "    <tr>\n",
       "      <th>1</th>\n",
       "      <td>5575-GNVDE</td>\n",
       "      <td>2017-04-01</td>\n",
       "      <td>No</td>\n",
       "      <td>One year</td>\n",
       "      <td>No</td>\n",
       "      <td>Mailed check</td>\n",
       "      <td>56.95</td>\n",
       "      <td>1889.5</td>\n",
       "    </tr>\n",
       "    <tr>\n",
       "      <th>2</th>\n",
       "      <td>3668-QPYBK</td>\n",
       "      <td>2019-10-01</td>\n",
       "      <td>2019-12-01 00:00:00</td>\n",
       "      <td>Month-to-month</td>\n",
       "      <td>Yes</td>\n",
       "      <td>Mailed check</td>\n",
       "      <td>53.85</td>\n",
       "      <td>108.15</td>\n",
       "    </tr>\n",
       "    <tr>\n",
       "      <th>3</th>\n",
       "      <td>7795-CFOCW</td>\n",
       "      <td>2016-05-01</td>\n",
       "      <td>No</td>\n",
       "      <td>One year</td>\n",
       "      <td>No</td>\n",
       "      <td>Bank transfer (automatic)</td>\n",
       "      <td>42.30</td>\n",
       "      <td>1840.75</td>\n",
       "    </tr>\n",
       "    <tr>\n",
       "      <th>4</th>\n",
       "      <td>9237-HQITU</td>\n",
       "      <td>2019-09-01</td>\n",
       "      <td>2019-11-01 00:00:00</td>\n",
       "      <td>Month-to-month</td>\n",
       "      <td>Yes</td>\n",
       "      <td>Electronic check</td>\n",
       "      <td>70.70</td>\n",
       "      <td>151.65</td>\n",
       "    </tr>\n",
       "    <tr>\n",
       "      <th>5</th>\n",
       "      <td>9305-CDSKC</td>\n",
       "      <td>2019-03-01</td>\n",
       "      <td>2019-11-01 00:00:00</td>\n",
       "      <td>Month-to-month</td>\n",
       "      <td>Yes</td>\n",
       "      <td>Electronic check</td>\n",
       "      <td>99.65</td>\n",
       "      <td>820.5</td>\n",
       "    </tr>\n",
       "    <tr>\n",
       "      <th>6</th>\n",
       "      <td>1452-KIOVK</td>\n",
       "      <td>2018-04-01</td>\n",
       "      <td>No</td>\n",
       "      <td>Month-to-month</td>\n",
       "      <td>Yes</td>\n",
       "      <td>Credit card (automatic)</td>\n",
       "      <td>89.10</td>\n",
       "      <td>1949.4</td>\n",
       "    </tr>\n",
       "    <tr>\n",
       "      <th>7</th>\n",
       "      <td>6713-OKOMC</td>\n",
       "      <td>2019-04-01</td>\n",
       "      <td>No</td>\n",
       "      <td>Month-to-month</td>\n",
       "      <td>No</td>\n",
       "      <td>Mailed check</td>\n",
       "      <td>29.75</td>\n",
       "      <td>301.9</td>\n",
       "    </tr>\n",
       "    <tr>\n",
       "      <th>8</th>\n",
       "      <td>7892-POOKP</td>\n",
       "      <td>2017-07-01</td>\n",
       "      <td>2019-11-01 00:00:00</td>\n",
       "      <td>Month-to-month</td>\n",
       "      <td>Yes</td>\n",
       "      <td>Electronic check</td>\n",
       "      <td>104.80</td>\n",
       "      <td>3046.05</td>\n",
       "    </tr>\n",
       "    <tr>\n",
       "      <th>9</th>\n",
       "      <td>6388-TABGU</td>\n",
       "      <td>2014-12-01</td>\n",
       "      <td>No</td>\n",
       "      <td>One year</td>\n",
       "      <td>No</td>\n",
       "      <td>Bank transfer (automatic)</td>\n",
       "      <td>56.15</td>\n",
       "      <td>3487.95</td>\n",
       "    </tr>\n",
       "  </tbody>\n",
       "</table>\n",
       "</div>"
      ],
      "text/plain": [
       "   customerID   BeginDate              EndDate            Type  \\\n",
       "0  7590-VHVEG  2020-01-01                   No  Month-to-month   \n",
       "1  5575-GNVDE  2017-04-01                   No        One year   \n",
       "2  3668-QPYBK  2019-10-01  2019-12-01 00:00:00  Month-to-month   \n",
       "3  7795-CFOCW  2016-05-01                   No        One year   \n",
       "4  9237-HQITU  2019-09-01  2019-11-01 00:00:00  Month-to-month   \n",
       "5  9305-CDSKC  2019-03-01  2019-11-01 00:00:00  Month-to-month   \n",
       "6  1452-KIOVK  2018-04-01                   No  Month-to-month   \n",
       "7  6713-OKOMC  2019-04-01                   No  Month-to-month   \n",
       "8  7892-POOKP  2017-07-01  2019-11-01 00:00:00  Month-to-month   \n",
       "9  6388-TABGU  2014-12-01                   No        One year   \n",
       "\n",
       "  PaperlessBilling              PaymentMethod  MonthlyCharges TotalCharges  \n",
       "0              Yes           Electronic check           29.85        29.85  \n",
       "1               No               Mailed check           56.95       1889.5  \n",
       "2              Yes               Mailed check           53.85       108.15  \n",
       "3               No  Bank transfer (automatic)           42.30      1840.75  \n",
       "4              Yes           Electronic check           70.70       151.65  \n",
       "5              Yes           Electronic check           99.65        820.5  \n",
       "6              Yes    Credit card (automatic)           89.10       1949.4  \n",
       "7               No               Mailed check           29.75        301.9  \n",
       "8              Yes           Electronic check          104.80      3046.05  \n",
       "9               No  Bank transfer (automatic)           56.15      3487.95  "
      ]
     },
     "metadata": {},
     "output_type": "display_data"
    }
   ],
   "source": [
    "#Getting a first glimpse at the data\n",
    "display(contract.info())\n",
    "display(contract.describe(include='all'))\n",
    "display(contract.head(10))"
   ]
  },
  {
   "cell_type": "code",
   "execution_count": 4,
   "metadata": {},
   "outputs": [
    {
     "data": {
      "image/png": "[encoded data removed]",
      "text/plain": [
       "<Figure size 1000x400 with 2 Axes>"
      ]
     },
     "metadata": {},
     "output_type": "display_data"
    }
   ],
   "source": [
    "\n",
    "#Analizing the distribution of the MonthlyCharge\n",
    "fig, ax = plt.subplots(1, 2, figsize=(10, 4))\n",
    "sns.histplot(data=contract, x=\"MonthlyCharges\", kde=True, ax=ax[0])\n",
    "sns.boxplot(x=\"MonthlyCharges\", data=contract, ax=ax[1]) \n",
    "plt.title(\"Monthly charges distribution\")\n",
    "ax[0].set(xlabel='Monthly charges', ylabel='Number of clients')\n",
    "ax[1].set_xlabel('Monthly charges')\n",
    "plt.show()\n",
    "\n",
    "\n"
   ]
  },
  {
   "cell_type": "code",
   "execution_count": 5,
   "metadata": {},
   "outputs": [
    {
     "name": "stdout",
     "output_type": "stream",
     "text": [
      "The mean for the Monthly Charges column is 64.76169246059918\n",
      "The median for the Monthly Charges column is 70.35\n",
      "The mode for the Monthly Charges column is 20.05\n"
     ]
    }
   ],
   "source": [
    "print('The mean for the Monthly Charges column is', statistics.mean(contract['MonthlyCharges']))\n",
    "print('The median for the Monthly Charges column is', statistics.median(contract['MonthlyCharges']))\n",
    "print('The mode for the Monthly Charges column is', statistics.mode(contract['MonthlyCharges']))"
   ]
  },
  {
   "cell_type": "code",
   "execution_count": 6,
   "metadata": {},
   "outputs": [
    {
     "name": "stdout",
     "output_type": "stream",
     "text": [
      "0.7346301292063041\n"
     ]
    }
   ],
   "source": [
    "#Evaluating class balance\n",
    "print(len(contract[contract['EndDate']=='No'])/len(contract['EndDate']))"
   ]
  },
  {
   "cell_type": "markdown",
   "metadata": {},
   "source": [
    "### Findings"
   ]
  },
  {
   "cell_type": "markdown",
   "metadata": {},
   "source": [
    "This database contains information regarding the client's contracts and its details like start date, payment type and monthly charges.\n",
    "\n",
    "There are 7043 observations that match the same number of unique client ids. And there are no missing values.\n",
    "\n",
    "The amount paid by each client per month goes from 18.25 to 118.75. The maximum amount is over 6 times the minimum. This is also relevant because the value that is more present is of 20.05, however, the mean and median are around 65-70. I think this is pointing out to different type of clients. \n",
    "\n",
    "Finally, we also discovered that the vast majority of the clients contained in the dataframe are clients who finished the contract. There is a class imbalance that will need to be addressed.\n",
    "\n",
    "-Preprocessing tasks:\n",
    "\n",
    "    -Unify the name of the columns to lowercase.\n",
    "    -Correct data types: BeginDate to date type and TotalCharges to float64.\n",
    "\n",
    "-Feature engineering tasks:\n",
    "\n",
    "    -Encode categorical data\n",
    "    -Obtain year/month from the beginning and end of the contract, to try to identify possible seasonalities. \n",
    "    -Define clusters of clients according to the information we have from them and add that information on a new column.\n",
    "    -Create the target column with only 2 options: ended contract or not.\n",
    "    -Work on balancing the classes."
   ]
  },
  {
   "cell_type": "markdown",
   "metadata": {},
   "source": [
    "### Preprocessing"
   ]
  },
  {
   "cell_type": "code",
   "execution_count": 7,
   "metadata": {},
   "outputs": [
    {
     "name": "stdout",
     "output_type": "stream",
     "text": [
      "Index(['customerid', 'begindate', 'enddate', 'type', 'paperlessbilling',\n",
      "       'paymentmethod', 'monthlycharges', 'totalcharges'],\n",
      "      dtype='object')\n"
     ]
    }
   ],
   "source": [
    "#Unifying columns headers to lowercase\n",
    "contract.columns = contract.columns.str.lower()\n",
    "print(contract.columns)"
   ]
  },
  {
   "cell_type": "code",
   "execution_count": 8,
   "metadata": {},
   "outputs": [
    {
     "name": "stdout",
     "output_type": "stream",
     "text": [
      "\n",
      "DataFrame dtypes after conversion:\n",
      "customerid                  object\n",
      "begindate           datetime64[ns]\n",
      "enddate                     object\n",
      "type                        object\n",
      "paperlessbilling            object\n",
      "paymentmethod               object\n",
      "monthlycharges             float64\n",
      "totalcharges                object\n",
      "dtype: object\n"
     ]
    }
   ],
   "source": [
    "#Correcting data types\n",
    "\n",
    "#Converting the 'begindate' to datetime\n",
    "contract['begindate'] = pd.to_datetime(contract['begindate'], format='%Y-%m-%d')\n",
    "\n",
    "print(\"\\nDataFrame dtypes after conversion:\")\n",
    "print(contract.dtypes)\n"
   ]
  },
  {
   "cell_type": "code",
   "execution_count": 9,
   "metadata": {},
   "outputs": [
    {
     "name": "stdout",
     "output_type": "stream",
     "text": [
      "\n",
      "DataFrame dtypes after conversion:\n",
      "customerid                  object\n",
      "begindate           datetime64[ns]\n",
      "enddate             datetime64[ns]\n",
      "type                        object\n",
      "paperlessbilling            object\n",
      "paymentmethod               object\n",
      "monthlycharges             float64\n",
      "totalcharges                object\n",
      "dtype: object\n"
     ]
    }
   ],
   "source": [
    "#Converting the 'enddate' to datetime\n",
    "contract['enddate'] = pd.to_datetime(contract['enddate'], format='%Y-%m-%d', errors='coerce')\n",
    "\n",
    "print(\"\\nDataFrame dtypes after conversion:\")\n",
    "print(contract.dtypes)\n"
   ]
  },
  {
   "cell_type": "code",
   "execution_count": 10,
   "metadata": {},
   "outputs": [
    {
     "name": "stdout",
     "output_type": "stream",
     "text": [
      "\n",
      "DataFrame dtypes after conversion:\n",
      "customerid                  object\n",
      "begindate           datetime64[ns]\n",
      "enddate             datetime64[ns]\n",
      "type                        object\n",
      "paperlessbilling            object\n",
      "paymentmethod               object\n",
      "monthlycharges             float64\n",
      "totalcharges               float64\n",
      "dtype: object\n"
     ]
    }
   ],
   "source": [
    "#Converting the 'totalcharges' to float64\n",
    "contract['totalcharges'] = pd.to_numeric(contract['totalcharges'], errors='coerce').fillna(0)\n",
    "\n",
    "print(\"\\nDataFrame dtypes after conversion:\")\n",
    "print(contract.dtypes)"
   ]
  },
  {
   "cell_type": "code",
   "execution_count": 11,
   "metadata": {},
   "outputs": [
    {
     "name": "stdout",
     "output_type": "stream",
     "text": [
      "     customerid  begindate enddate            type paperlessbilling  \\\n",
      "0    7590-VHVEG 2020-01-01     NaT  Month-to-month              Yes   \n",
      "33   7310-EGVHZ 2020-01-01     NaT  Month-to-month               No   \n",
      "34   3413-BMNZE 2020-01-01     NaT  Month-to-month               No   \n",
      "70   2273-QCKXA 2020-01-01     NaT  Month-to-month               No   \n",
      "91   2424-WVHPL 2020-01-01     NaT  Month-to-month               No   \n",
      "100  6380-ARCEH 2020-01-01     NaT  Month-to-month               No   \n",
      "101  3679-XASPY 2020-01-01     NaT  Month-to-month               No   \n",
      "128  3930-ZGWVE 2020-01-01     NaT  Month-to-month               No   \n",
      "181  6582-OIVSP 2020-01-01     NaT  Month-to-month               No   \n",
      "199  3645-DEYGF 2020-01-01     NaT  Month-to-month               No   \n",
      "\n",
      "                 paymentmethod  monthlycharges  totalcharges  \n",
      "0             Electronic check           29.85         29.85  \n",
      "33   Bank transfer (automatic)           20.20         20.20  \n",
      "34   Bank transfer (automatic)           45.25         45.25  \n",
      "70                Mailed check           49.05         49.05  \n",
      "91            Electronic check           74.70         74.70  \n",
      "100               Mailed check           20.20         20.20  \n",
      "101           Electronic check           19.45         19.45  \n",
      "128               Mailed check           19.75         19.75  \n",
      "181               Mailed check           45.30         45.30  \n",
      "199               Mailed check           20.75         20.75  \n"
     ]
    }
   ],
   "source": [
    "#Filtering data of clients that started the contract on 2020-01-01\n",
    "january = contract[contract['begindate'] == '2020-01-01']\n",
    "print(january.head(10))"
   ]
  },
  {
   "cell_type": "markdown",
   "metadata": {},
   "source": [
    "After changing the data type to float64, 11 empty values appeared. After revising, it turned out that those values corresponded to contracts starting on 2020-02-01. The information we have doesn't go after that month. For that reason, the total charges haven't been computed yet. It seems like they start being added up after the second month of the contract. This was discovered by filtering the data of clients who started the contract on 2020-01-01 (one month earlier). Said client's 'totalcharges' amount for one month of the montyly charges. As seen on the next box. For this reason, the empty values will be replaced with zeros. "
   ]
  },
  {
   "cell_type": "code",
   "execution_count": 12,
   "metadata": {},
   "outputs": [
    {
     "data": {
      "image/png": "[encoded data removed]",
      "text/plain": [
       "<Figure size 1000x400 with 2 Axes>"
      ]
     },
     "metadata": {},
     "output_type": "display_data"
    }
   ],
   "source": [
    "#Analizing the distribution of the totalcharges\n",
    "fig, ax = plt.subplots(1, 2, figsize=(10, 4))\n",
    "sns.histplot(data=contract, x=\"totalcharges\", kde=True, ax=ax[0])\n",
    "sns.boxplot(x=\"totalcharges\", data=contract, ax=ax[1]) \n",
    "plt.title(\"Total charges distribution\")\n",
    "ax[0].set(xlabel='Total charges', ylabel='Number of clients')\n",
    "ax[1].set_xlabel('Total charges')\n",
    "plt.show()\n"
   ]
  },
  {
   "cell_type": "markdown",
   "metadata": {},
   "source": [
    "The distribution shows that most of the clients have paid in total less than 2 thousand, meaning that either they have been clients for a little time and/or pay little amounts."
   ]
  },
  {
   "cell_type": "code",
   "execution_count": 13,
   "metadata": {},
   "outputs": [
    {
     "data": {
      "text/plain": [
       "2019-11-01    485\n",
       "2019-12-01    466\n",
       "2020-01-01    460\n",
       "2019-10-01    458\n",
       "Name: enddate, dtype: int64"
      ]
     },
     "execution_count": 13,
     "metadata": {},
     "output_type": "execute_result"
    }
   ],
   "source": [
    "#Exploring the values in the enddate column\n",
    "contract['enddate'].value_counts()"
   ]
  },
  {
   "cell_type": "markdown",
   "metadata": {},
   "source": [
    "It is interesting to see that the end dates go only from October 2019 to January 2020. And they are specifically the first day of the month. This probably point to the fact that maybe it doesn't matter when they decide to stop being customers with the company, their contracts end on the first day of the month and that is what is being reflected here. \n",
    "\n",
    "But the information we have starts on February 2014 and goes until February 2020. Why do we only have clients ending the contract starting on October 2019. Were the clients not leaving before? Or was the information not being registered? We could discover this by comparing the begin date to the total amount paid. If all clients are still active when there's no end date, the number of months since they started the contract, should match the prorated total charges by the number of months minus one.\n",
    "\n",
    "If that matches, it would mean that something happened recently that is making the clients leave the company."
   ]
  },
  {
   "cell_type": "markdown",
   "metadata": {},
   "source": [
    "### Feature engineering"
   ]
  },
  {
   "cell_type": "code",
   "execution_count": 14,
   "metadata": {},
   "outputs": [
    {
     "name": "stdout",
     "output_type": "stream",
     "text": [
      "   customerid  begindate    enddate            type paperlessbilling  \\\n",
      "0  7590-VHVEG 2020-01-01        NaT  Month-to-month              Yes   \n",
      "1  5575-GNVDE 2017-04-01        NaT        One year               No   \n",
      "2  3668-QPYBK 2019-10-01 2019-12-01  Month-to-month              Yes   \n",
      "3  7795-CFOCW 2016-05-01        NaT        One year               No   \n",
      "4  9237-HQITU 2019-09-01 2019-11-01  Month-to-month              Yes   \n",
      "\n",
      "               paymentmethod  monthlycharges  totalcharges  beginyear  \n",
      "0           Electronic check           29.85         29.85       2020  \n",
      "1               Mailed check           56.95       1889.50       2017  \n",
      "2               Mailed check           53.85        108.15       2019  \n",
      "3  Bank transfer (automatic)           42.30       1840.75       2016  \n",
      "4           Electronic check           70.70        151.65       2019  \n"
     ]
    }
   ],
   "source": [
    "#Creating a column with the year a contract started\n",
    "contract['beginyear'] = contract['begindate'].dt.year\n",
    "print(contract.head())"
   ]
  },
  {
   "cell_type": "code",
   "execution_count": 15,
   "metadata": {},
   "outputs": [
    {
     "name": "stdout",
     "output_type": "stream",
     "text": [
      "   customerid  begindate    enddate            type paperlessbilling  \\\n",
      "0  7590-VHVEG 2020-01-01        NaT  Month-to-month              Yes   \n",
      "1  5575-GNVDE 2017-04-01        NaT        One year               No   \n",
      "2  3668-QPYBK 2019-10-01 2019-12-01  Month-to-month              Yes   \n",
      "3  7795-CFOCW 2016-05-01        NaT        One year               No   \n",
      "4  9237-HQITU 2019-09-01 2019-11-01  Month-to-month              Yes   \n",
      "\n",
      "               paymentmethod  monthlycharges  totalcharges  beginyear  \\\n",
      "0           Electronic check           29.85         29.85       2020   \n",
      "1               Mailed check           56.95       1889.50       2017   \n",
      "2               Mailed check           53.85        108.15       2019   \n",
      "3  Bank transfer (automatic)           42.30       1840.75       2016   \n",
      "4           Electronic check           70.70        151.65       2019   \n",
      "\n",
      "   beginmonth  \n",
      "0           1  \n",
      "1           4  \n",
      "2          10  \n",
      "3           5  \n",
      "4           9  \n"
     ]
    }
   ],
   "source": [
    "#Creating a column with the month a contract started\n",
    "contract['beginmonth'] = contract['begindate'].dt.month\n",
    "print(contract.head())"
   ]
  },
  {
   "cell_type": "code",
   "execution_count": 16,
   "metadata": {},
   "outputs": [
    {
     "name": "stdout",
     "output_type": "stream",
     "text": [
      "   customerid  begindate    enddate            type paperlessbilling  \\\n",
      "0  7590-VHVEG 2020-01-01        NaT  Month-to-month              Yes   \n",
      "1  5575-GNVDE 2017-04-01        NaT        One year               No   \n",
      "2  3668-QPYBK 2019-10-01 2019-12-01  Month-to-month              Yes   \n",
      "3  7795-CFOCW 2016-05-01        NaT        One year               No   \n",
      "4  9237-HQITU 2019-09-01 2019-11-01  Month-to-month              Yes   \n",
      "\n",
      "               paymentmethod  monthlycharges  totalcharges  beginyear  \\\n",
      "0           Electronic check           29.85         29.85       2020   \n",
      "1               Mailed check           56.95       1889.50       2017   \n",
      "2               Mailed check           53.85        108.15       2019   \n",
      "3  Bank transfer (automatic)           42.30       1840.75       2016   \n",
      "4           Electronic check           70.70        151.65       2019   \n",
      "\n",
      "   beginmonth  contractduration  \n",
      "0           1                 1  \n",
      "1           4                34  \n",
      "2          10                 2  \n",
      "3           5                45  \n",
      "4           9                 2  \n"
     ]
    }
   ],
   "source": [
    "#Creating a column with the number of months the contract was active/has been active\n",
    "def calculate_months(df, start_col, end_col):\n",
    "    \"\"\"\n",
    "    Calculates the number of months between a start and end date.\n",
    "\n",
    "    Args:\n",
    "        df (pd.DataFrame): The DataFrame containing the dates.\n",
    "        start_col (str): The name of the column with the start date.\n",
    "        end_col (str): The name of the column with the end date.\n",
    "\n",
    "    Returns:\n",
    "        pd.Series: A Series containing the number of months.\n",
    "    \"\"\"\n",
    "    \n",
    "    # Define the predefined end date for NaT values\n",
    "    predefined_end_date = pd.Timestamp('2020-02-01')\n",
    "\n",
    "    # Replace NaT values in the end date column with the predefined date\n",
    "    end_col = df[end_col].fillna(predefined_end_date)\n",
    "\n",
    "    # Calculate the number of months. \n",
    "    \n",
    "    months_delta = (\n",
    "        end_col.dt.to_period('M').astype(int) - \n",
    "        df[start_col].dt.to_period('M').astype(int)\n",
    "    )\n",
    "\n",
    "    return months_delta\n",
    "\n",
    "\n",
    "\n",
    "#Applying the function\n",
    "contract['contractduration'] = calculate_months(contract, 'begindate', 'enddate')\n",
    "\n",
    "print(contract.head())\n",
    "\n"
   ]
  },
  {
   "cell_type": "code",
   "execution_count": 17,
   "metadata": {},
   "outputs": [
    {
     "name": "stdout",
     "output_type": "stream",
     "text": [
      "   customerid  begindate    enddate            type paperlessbilling  \\\n",
      "0  7590-VHVEG 2020-01-01        NaT  Month-to-month              Yes   \n",
      "1  5575-GNVDE 2017-04-01        NaT        One year               No   \n",
      "2  3668-QPYBK 2019-10-01 2019-12-01  Month-to-month              Yes   \n",
      "3  7795-CFOCW 2016-05-01        NaT        One year               No   \n",
      "4  9237-HQITU 2019-09-01 2019-11-01  Month-to-month              Yes   \n",
      "\n",
      "               paymentmethod  monthlycharges  totalcharges  beginyear  \\\n",
      "0           Electronic check           29.85         29.85       2020   \n",
      "1               Mailed check           56.95       1889.50       2017   \n",
      "2               Mailed check           53.85        108.15       2019   \n",
      "3  Bank transfer (automatic)           42.30       1840.75       2016   \n",
      "4           Electronic check           70.70        151.65       2019   \n",
      "\n",
      "   beginmonth  contractduration  contractended  \n",
      "0           1                 1              0  \n",
      "1           4                34              0  \n",
      "2          10                 2              1  \n",
      "3           5                45              0  \n",
      "4           9                 2              1  \n"
     ]
    }
   ],
   "source": [
    "#Creating the target column\n",
    "contract['contractended'] = (~contract['enddate'].isna()).astype(int)\n",
    "\n",
    "print(contract.head())"
   ]
  },
  {
   "cell_type": "markdown",
   "metadata": {},
   "source": [
    "Now that we have the information of the amount of months that each contract has lasted, we can also plot the duration of the contracts up to this point:"
   ]
  },
  {
   "cell_type": "code",
   "execution_count": 18,
   "metadata": {},
   "outputs": [
    {
     "data": {
      "image/png": "[encoded data removed]",
      "text/plain": [
       "<Figure size 1000x400 with 2 Axes>"
      ]
     },
     "metadata": {},
     "output_type": "display_data"
    }
   ],
   "source": [
    "\n",
    "\n",
    "#Analizing the distribution of the contract duration\n",
    "fig, ax = plt.subplots(1, 2, figsize=(10, 4))\n",
    "sns.histplot(data=contract, x=\"contractduration\", kde=True, ax=ax[0])\n",
    "sns.boxplot(x=\"contractduration\", data=contract, ax=ax[1]) \n",
    "plt.title(\"Contract duration distribution\")\n",
    "ax[0].set(xlabel='Contract duration', ylabel='Number of clients')\n",
    "ax[1].set_xlabel('Contract duration')\n",
    "plt.show()\n",
    "\n"
   ]
  },
  {
   "cell_type": "code",
   "execution_count": 19,
   "metadata": {},
   "outputs": [
    {
     "data": {
      "text/plain": [
       "count    7043.000000\n",
       "mean       32.371149\n",
       "std        24.559481\n",
       "min         0.000000\n",
       "25%         9.000000\n",
       "50%        29.000000\n",
       "75%        55.000000\n",
       "max        72.000000\n",
       "Name: contractduration, dtype: float64"
      ]
     },
     "execution_count": 19,
     "metadata": {},
     "output_type": "execute_result"
    }
   ],
   "source": [
    "contract['contractduration'].describe()"
   ]
  },
  {
   "cell_type": "code",
   "execution_count": 20,
   "metadata": {},
   "outputs": [
    {
     "name": "stdout",
     "output_type": "stream",
     "text": [
      "11\n"
     ]
    }
   ],
   "source": [
    "#Obtaining information of new clients that started contract on February 2020\n",
    "newclients = contract[contract['begindate']== '2020-02-01']\n",
    "print(len(newclients))\n"
   ]
  },
  {
   "cell_type": "code",
   "execution_count": 21,
   "metadata": {},
   "outputs": [
    {
     "name": "stdout",
     "output_type": "stream",
     "text": [
      "11\n"
     ]
    }
   ],
   "source": [
    "#Obtaining information on number of contracts that lasted 0 months\n",
    "noduration = contract[contract['contractduration']== 0]\n",
    "print(len(noduration))\n"
   ]
  },
  {
   "cell_type": "code",
   "execution_count": 22,
   "metadata": {},
   "outputs": [
    {
     "data": {
      "image/png": "[encoded data removed]",
      "text/plain": [
       "<Figure size 640x480 with 1 Axes>"
      ]
     },
     "metadata": {},
     "output_type": "display_data"
    }
   ],
   "source": [
    "\n",
    "#Plotting the distribution of the year the contract started\n",
    "contract['beginyear'].plot(kind='hist', title='Year distribution', xlabel='Contract starts')\n",
    "plt.show()\n"
   ]
  },
  {
   "cell_type": "markdown",
   "metadata": {},
   "source": [
    "The average contract on this database, has lasted 32 months. Most of the client's contracts haven't lasted more than 5 months. However, that could be due to them being newer clients. Since also, most contracts started on 2019.\n",
    "\n",
    "Also, there clients whose contract has lasted 0 months, but in all cases, those clients started the contract on February 2020. "
   ]
  },
  {
   "cell_type": "code",
   "execution_count": 23,
   "metadata": {},
   "outputs": [
    {
     "name": "stdout",
     "output_type": "stream",
     "text": [
      "count    7043.000000\n",
      "mean        0.003124\n",
      "std         1.156703\n",
      "min        -8.000000\n",
      "25%         0.000000\n",
      "50%         0.000000\n",
      "75%         1.000000\n",
      "max         7.000000\n",
      "dtype: float64\n"
     ]
    }
   ],
   "source": [
    "#Creating a validation series to analyze if contracts ended without being registered on the enddate column\n",
    "validation=contract['contractduration']-(contract['totalcharges']/contract['monthlycharges']).round()\n",
    "print(validation.describe())"
   ]
  },
  {
   "cell_type": "markdown",
   "metadata": {},
   "source": [
    "\n",
    "I am curious to discover if there is a possibility that the clients have been ending their contracts, but it is not shown on the enddate column. For this purpose I created a series that prorates the totalcharges divided by the monthly charges, this number should be equal or close to the contract duration. In order to get an idea of how close the number obtained is actually similar to the contract duration, I subtract the number obtained from the contract duration feature. And I printed the results of applying the describe funciton to this series. The results are showing that while there is at least one case where the duration of the contract difers by 7 months to the prorated result, in general, the mean tends to zero. So it is really close. With this information I would conclude that the information regarding the end of the contracts is accurate, so we don't have clients who left before October 2019. What could be the reason? It seems like something is happening in the market recently, making the clients leave.\n"
   ]
  },
  {
   "cell_type": "markdown",
   "metadata": {},
   "source": [
    "### Personal database"
   ]
  },
  {
   "cell_type": "code",
   "execution_count": 24,
   "metadata": {},
   "outputs": [
    {
     "data": {
      "text/html": [
       "<div>\n",
       "<style scoped>\n",
       "    .dataframe tbody tr th:only-of-type {\n",
       "        vertical-align: middle;\n",
       "    }\n",
       "\n",
       "    .dataframe tbody tr th {\n",
       "        vertical-align: top;\n",
       "    }\n",
       "\n",
       "    .dataframe thead th {\n",
       "        text-align: right;\n",
       "    }\n",
       "</style>\n",
       "<table border=\"1\" class=\"dataframe\">\n",
       "  <thead>\n",
       "    <tr style=\"text-align: right;\">\n",
       "      <th></th>\n",
       "      <th>customerID</th>\n",
       "      <th>gender</th>\n",
       "      <th>SeniorCitizen</th>\n",
       "      <th>Partner</th>\n",
       "      <th>Dependents</th>\n",
       "    </tr>\n",
       "  </thead>\n",
       "  <tbody>\n",
       "    <tr>\n",
       "      <th>count</th>\n",
       "      <td>7043</td>\n",
       "      <td>7043</td>\n",
       "      <td>7043.000000</td>\n",
       "      <td>7043</td>\n",
       "      <td>7043</td>\n",
       "    </tr>\n",
       "    <tr>\n",
       "      <th>unique</th>\n",
       "      <td>7043</td>\n",
       "      <td>2</td>\n",
       "      <td>NaN</td>\n",
       "      <td>2</td>\n",
       "      <td>2</td>\n",
       "    </tr>\n",
       "    <tr>\n",
       "      <th>top</th>\n",
       "      <td>1293-BSEUN</td>\n",
       "      <td>Male</td>\n",
       "      <td>NaN</td>\n",
       "      <td>No</td>\n",
       "      <td>No</td>\n",
       "    </tr>\n",
       "    <tr>\n",
       "      <th>freq</th>\n",
       "      <td>1</td>\n",
       "      <td>3555</td>\n",
       "      <td>NaN</td>\n",
       "      <td>3641</td>\n",
       "      <td>4933</td>\n",
       "    </tr>\n",
       "    <tr>\n",
       "      <th>mean</th>\n",
       "      <td>NaN</td>\n",
       "      <td>NaN</td>\n",
       "      <td>0.162147</td>\n",
       "      <td>NaN</td>\n",
       "      <td>NaN</td>\n",
       "    </tr>\n",
       "    <tr>\n",
       "      <th>std</th>\n",
       "      <td>NaN</td>\n",
       "      <td>NaN</td>\n",
       "      <td>0.368612</td>\n",
       "      <td>NaN</td>\n",
       "      <td>NaN</td>\n",
       "    </tr>\n",
       "    <tr>\n",
       "      <th>min</th>\n",
       "      <td>NaN</td>\n",
       "      <td>NaN</td>\n",
       "      <td>0.000000</td>\n",
       "      <td>NaN</td>\n",
       "      <td>NaN</td>\n",
       "    </tr>\n",
       "    <tr>\n",
       "      <th>25%</th>\n",
       "      <td>NaN</td>\n",
       "      <td>NaN</td>\n",
       "      <td>0.000000</td>\n",
       "      <td>NaN</td>\n",
       "      <td>NaN</td>\n",
       "    </tr>\n",
       "    <tr>\n",
       "      <th>50%</th>\n",
       "      <td>NaN</td>\n",
       "      <td>NaN</td>\n",
       "      <td>0.000000</td>\n",
       "      <td>NaN</td>\n",
       "      <td>NaN</td>\n",
       "    </tr>\n",
       "    <tr>\n",
       "      <th>75%</th>\n",
       "      <td>NaN</td>\n",
       "      <td>NaN</td>\n",
       "      <td>0.000000</td>\n",
       "      <td>NaN</td>\n",
       "      <td>NaN</td>\n",
       "    </tr>\n",
       "    <tr>\n",
       "      <th>max</th>\n",
       "      <td>NaN</td>\n",
       "      <td>NaN</td>\n",
       "      <td>1.000000</td>\n",
       "      <td>NaN</td>\n",
       "      <td>NaN</td>\n",
       "    </tr>\n",
       "  </tbody>\n",
       "</table>\n",
       "</div>"
      ],
      "text/plain": [
       "        customerID gender  SeniorCitizen Partner Dependents\n",
       "count         7043   7043    7043.000000    7043       7043\n",
       "unique        7043      2            NaN       2          2\n",
       "top     1293-BSEUN   Male            NaN      No         No\n",
       "freq             1   3555            NaN    3641       4933\n",
       "mean           NaN    NaN       0.162147     NaN        NaN\n",
       "std            NaN    NaN       0.368612     NaN        NaN\n",
       "min            NaN    NaN       0.000000     NaN        NaN\n",
       "25%            NaN    NaN       0.000000     NaN        NaN\n",
       "50%            NaN    NaN       0.000000     NaN        NaN\n",
       "75%            NaN    NaN       0.000000     NaN        NaN\n",
       "max            NaN    NaN       1.000000     NaN        NaN"
      ]
     },
     "metadata": {},
     "output_type": "display_data"
    },
    {
     "name": "stdout",
     "output_type": "stream",
     "text": [
      "<class 'pandas.core.frame.DataFrame'>\n",
      "RangeIndex: 7043 entries, 0 to 7042\n",
      "Data columns (total 5 columns):\n",
      " #   Column         Non-Null Count  Dtype \n",
      "---  ------         --------------  ----- \n",
      " 0   customerID     7043 non-null   object\n",
      " 1   gender         7043 non-null   object\n",
      " 2   SeniorCitizen  7043 non-null   int64 \n",
      " 3   Partner        7043 non-null   object\n",
      " 4   Dependents     7043 non-null   object\n",
      "dtypes: int64(1), object(4)\n",
      "memory usage: 275.2+ KB\n"
     ]
    },
    {
     "data": {
      "text/plain": [
       "None"
      ]
     },
     "metadata": {},
     "output_type": "display_data"
    },
    {
     "data": {
      "text/html": [
       "<div>\n",
       "<style scoped>\n",
       "    .dataframe tbody tr th:only-of-type {\n",
       "        vertical-align: middle;\n",
       "    }\n",
       "\n",
       "    .dataframe tbody tr th {\n",
       "        vertical-align: top;\n",
       "    }\n",
       "\n",
       "    .dataframe thead th {\n",
       "        text-align: right;\n",
       "    }\n",
       "</style>\n",
       "<table border=\"1\" class=\"dataframe\">\n",
       "  <thead>\n",
       "    <tr style=\"text-align: right;\">\n",
       "      <th></th>\n",
       "      <th>customerID</th>\n",
       "      <th>gender</th>\n",
       "      <th>SeniorCitizen</th>\n",
       "      <th>Partner</th>\n",
       "      <th>Dependents</th>\n",
       "    </tr>\n",
       "  </thead>\n",
       "  <tbody>\n",
       "    <tr>\n",
       "      <th>0</th>\n",
       "      <td>7590-VHVEG</td>\n",
       "      <td>Female</td>\n",
       "      <td>0</td>\n",
       "      <td>Yes</td>\n",
       "      <td>No</td>\n",
       "    </tr>\n",
       "    <tr>\n",
       "      <th>1</th>\n",
       "      <td>5575-GNVDE</td>\n",
       "      <td>Male</td>\n",
       "      <td>0</td>\n",
       "      <td>No</td>\n",
       "      <td>No</td>\n",
       "    </tr>\n",
       "    <tr>\n",
       "      <th>2</th>\n",
       "      <td>3668-QPYBK</td>\n",
       "      <td>Male</td>\n",
       "      <td>0</td>\n",
       "      <td>No</td>\n",
       "      <td>No</td>\n",
       "    </tr>\n",
       "    <tr>\n",
       "      <th>3</th>\n",
       "      <td>7795-CFOCW</td>\n",
       "      <td>Male</td>\n",
       "      <td>0</td>\n",
       "      <td>No</td>\n",
       "      <td>No</td>\n",
       "    </tr>\n",
       "    <tr>\n",
       "      <th>4</th>\n",
       "      <td>9237-HQITU</td>\n",
       "      <td>Female</td>\n",
       "      <td>0</td>\n",
       "      <td>No</td>\n",
       "      <td>No</td>\n",
       "    </tr>\n",
       "    <tr>\n",
       "      <th>5</th>\n",
       "      <td>9305-CDSKC</td>\n",
       "      <td>Female</td>\n",
       "      <td>0</td>\n",
       "      <td>No</td>\n",
       "      <td>No</td>\n",
       "    </tr>\n",
       "    <tr>\n",
       "      <th>6</th>\n",
       "      <td>1452-KIOVK</td>\n",
       "      <td>Male</td>\n",
       "      <td>0</td>\n",
       "      <td>No</td>\n",
       "      <td>Yes</td>\n",
       "    </tr>\n",
       "    <tr>\n",
       "      <th>7</th>\n",
       "      <td>6713-OKOMC</td>\n",
       "      <td>Female</td>\n",
       "      <td>0</td>\n",
       "      <td>No</td>\n",
       "      <td>No</td>\n",
       "    </tr>\n",
       "    <tr>\n",
       "      <th>8</th>\n",
       "      <td>7892-POOKP</td>\n",
       "      <td>Female</td>\n",
       "      <td>0</td>\n",
       "      <td>Yes</td>\n",
       "      <td>No</td>\n",
       "    </tr>\n",
       "    <tr>\n",
       "      <th>9</th>\n",
       "      <td>6388-TABGU</td>\n",
       "      <td>Male</td>\n",
       "      <td>0</td>\n",
       "      <td>No</td>\n",
       "      <td>Yes</td>\n",
       "    </tr>\n",
       "  </tbody>\n",
       "</table>\n",
       "</div>"
      ],
      "text/plain": [
       "   customerID  gender  SeniorCitizen Partner Dependents\n",
       "0  7590-VHVEG  Female              0     Yes         No\n",
       "1  5575-GNVDE    Male              0      No         No\n",
       "2  3668-QPYBK    Male              0      No         No\n",
       "3  7795-CFOCW    Male              0      No         No\n",
       "4  9237-HQITU  Female              0      No         No\n",
       "5  9305-CDSKC  Female              0      No         No\n",
       "6  1452-KIOVK    Male              0      No        Yes\n",
       "7  6713-OKOMC  Female              0      No         No\n",
       "8  7892-POOKP  Female              0     Yes         No\n",
       "9  6388-TABGU    Male              0      No        Yes"
      ]
     },
     "metadata": {},
     "output_type": "display_data"
    }
   ],
   "source": [
    "display(personal.describe(include='all'))\n",
    "display(personal.info())\n",
    "display(personal.head(10))"
   ]
  },
  {
   "cell_type": "markdown",
   "metadata": {},
   "source": [
    "### Findings"
   ]
  },
  {
   "cell_type": "markdown",
   "metadata": {},
   "source": [
    "This database also contains 7043 observations linked to a unique customerID and there is no missing data. All of the features contained in this database are categorical data with only two possible options, however, some of them are expressed as yes/no, other as 0 or 1 and a final one as female/male. The was this information is handled should be made uniformly.\n",
    "\n",
    "All the information contained on this database is binary. So, the describe method is enough to give us a general idea of the information contained on it: \n",
    "- 50% of the clients are female and 50% are male.\n",
    "- Most of the clients are not Senior Citizens\n",
    "- 52% of the clients don't have a partner.\n",
    "- 70% of the client's don't have dependants\n",
    "\n",
    "Prepocessing tasks: \n",
    "\n",
    "-Name of the columns to lowercase \n",
    "-Encode categorical data\n",
    "\n",
    "EDA tasks:\n",
    "\n",
    "-All the databases will be combined using the customerID information. Once that is done, it will be relevant to analyze the relationship between features."
   ]
  },
  {
   "cell_type": "markdown",
   "metadata": {},
   "source": [
    "### Preprocessing"
   ]
  },
  {
   "cell_type": "code",
   "execution_count": 25,
   "metadata": {},
   "outputs": [
    {
     "name": "stdout",
     "output_type": "stream",
     "text": [
      "Index(['customerid', 'gender', 'seniorcitizen', 'partner', 'dependents'], dtype='object')\n"
     ]
    }
   ],
   "source": [
    "#Unifying columns headers to lowercase\n",
    "personal.columns = personal.columns.str.lower()\n",
    "print(personal.columns)"
   ]
  },
  {
   "cell_type": "markdown",
   "metadata": {},
   "source": [
    "At the moment, this is all that will be done with this database. Nor further data engineering will be done. "
   ]
  },
  {
   "cell_type": "markdown",
   "metadata": {},
   "source": [
    "### Internet database"
   ]
  },
  {
   "cell_type": "code",
   "execution_count": 26,
   "metadata": {},
   "outputs": [
    {
     "data": {
      "text/html": [
       "<div>\n",
       "<style scoped>\n",
       "    .dataframe tbody tr th:only-of-type {\n",
       "        vertical-align: middle;\n",
       "    }\n",
       "\n",
       "    .dataframe tbody tr th {\n",
       "        vertical-align: top;\n",
       "    }\n",
       "\n",
       "    .dataframe thead th {\n",
       "        text-align: right;\n",
       "    }\n",
       "</style>\n",
       "<table border=\"1\" class=\"dataframe\">\n",
       "  <thead>\n",
       "    <tr style=\"text-align: right;\">\n",
       "      <th></th>\n",
       "      <th>customerID</th>\n",
       "      <th>InternetService</th>\n",
       "      <th>OnlineSecurity</th>\n",
       "      <th>OnlineBackup</th>\n",
       "      <th>DeviceProtection</th>\n",
       "      <th>TechSupport</th>\n",
       "      <th>StreamingTV</th>\n",
       "      <th>StreamingMovies</th>\n",
       "    </tr>\n",
       "  </thead>\n",
       "  <tbody>\n",
       "    <tr>\n",
       "      <th>count</th>\n",
       "      <td>5517</td>\n",
       "      <td>5517</td>\n",
       "      <td>5517</td>\n",
       "      <td>5517</td>\n",
       "      <td>5517</td>\n",
       "      <td>5517</td>\n",
       "      <td>5517</td>\n",
       "      <td>5517</td>\n",
       "    </tr>\n",
       "    <tr>\n",
       "      <th>unique</th>\n",
       "      <td>5517</td>\n",
       "      <td>2</td>\n",
       "      <td>2</td>\n",
       "      <td>2</td>\n",
       "      <td>2</td>\n",
       "      <td>2</td>\n",
       "      <td>2</td>\n",
       "      <td>2</td>\n",
       "    </tr>\n",
       "    <tr>\n",
       "      <th>top</th>\n",
       "      <td>5712-PTIWW</td>\n",
       "      <td>Fiber optic</td>\n",
       "      <td>No</td>\n",
       "      <td>No</td>\n",
       "      <td>No</td>\n",
       "      <td>No</td>\n",
       "      <td>No</td>\n",
       "      <td>No</td>\n",
       "    </tr>\n",
       "    <tr>\n",
       "      <th>freq</th>\n",
       "      <td>1</td>\n",
       "      <td>3096</td>\n",
       "      <td>3498</td>\n",
       "      <td>3088</td>\n",
       "      <td>3095</td>\n",
       "      <td>3473</td>\n",
       "      <td>2810</td>\n",
       "      <td>2785</td>\n",
       "    </tr>\n",
       "  </tbody>\n",
       "</table>\n",
       "</div>"
      ],
      "text/plain": [
       "        customerID InternetService OnlineSecurity OnlineBackup  \\\n",
       "count         5517            5517           5517         5517   \n",
       "unique        5517               2              2            2   \n",
       "top     5712-PTIWW     Fiber optic             No           No   \n",
       "freq             1            3096           3498         3088   \n",
       "\n",
       "       DeviceProtection TechSupport StreamingTV StreamingMovies  \n",
       "count              5517        5517        5517            5517  \n",
       "unique                2           2           2               2  \n",
       "top                  No          No          No              No  \n",
       "freq               3095        3473        2810            2785  "
      ]
     },
     "metadata": {},
     "output_type": "display_data"
    },
    {
     "name": "stdout",
     "output_type": "stream",
     "text": [
      "<class 'pandas.core.frame.DataFrame'>\n",
      "RangeIndex: 5517 entries, 0 to 5516\n",
      "Data columns (total 8 columns):\n",
      " #   Column            Non-Null Count  Dtype \n",
      "---  ------            --------------  ----- \n",
      " 0   customerID        5517 non-null   object\n",
      " 1   InternetService   5517 non-null   object\n",
      " 2   OnlineSecurity    5517 non-null   object\n",
      " 3   OnlineBackup      5517 non-null   object\n",
      " 4   DeviceProtection  5517 non-null   object\n",
      " 5   TechSupport       5517 non-null   object\n",
      " 6   StreamingTV       5517 non-null   object\n",
      " 7   StreamingMovies   5517 non-null   object\n",
      "dtypes: object(8)\n",
      "memory usage: 344.9+ KB\n"
     ]
    },
    {
     "data": {
      "text/plain": [
       "None"
      ]
     },
     "metadata": {},
     "output_type": "display_data"
    },
    {
     "data": {
      "text/html": [
       "<div>\n",
       "<style scoped>\n",
       "    .dataframe tbody tr th:only-of-type {\n",
       "        vertical-align: middle;\n",
       "    }\n",
       "\n",
       "    .dataframe tbody tr th {\n",
       "        vertical-align: top;\n",
       "    }\n",
       "\n",
       "    .dataframe thead th {\n",
       "        text-align: right;\n",
       "    }\n",
       "</style>\n",
       "<table border=\"1\" class=\"dataframe\">\n",
       "  <thead>\n",
       "    <tr style=\"text-align: right;\">\n",
       "      <th></th>\n",
       "      <th>customerID</th>\n",
       "      <th>InternetService</th>\n",
       "      <th>OnlineSecurity</th>\n",
       "      <th>OnlineBackup</th>\n",
       "      <th>DeviceProtection</th>\n",
       "      <th>TechSupport</th>\n",
       "      <th>StreamingTV</th>\n",
       "      <th>StreamingMovies</th>\n",
       "    </tr>\n",
       "  </thead>\n",
       "  <tbody>\n",
       "    <tr>\n",
       "      <th>0</th>\n",
       "      <td>7590-VHVEG</td>\n",
       "      <td>DSL</td>\n",
       "      <td>No</td>\n",
       "      <td>Yes</td>\n",
       "      <td>No</td>\n",
       "      <td>No</td>\n",
       "      <td>No</td>\n",
       "      <td>No</td>\n",
       "    </tr>\n",
       "    <tr>\n",
       "      <th>1</th>\n",
       "      <td>5575-GNVDE</td>\n",
       "      <td>DSL</td>\n",
       "      <td>Yes</td>\n",
       "      <td>No</td>\n",
       "      <td>Yes</td>\n",
       "      <td>No</td>\n",
       "      <td>No</td>\n",
       "      <td>No</td>\n",
       "    </tr>\n",
       "    <tr>\n",
       "      <th>2</th>\n",
       "      <td>3668-QPYBK</td>\n",
       "      <td>DSL</td>\n",
       "      <td>Yes</td>\n",
       "      <td>Yes</td>\n",
       "      <td>No</td>\n",
       "      <td>No</td>\n",
       "      <td>No</td>\n",
       "      <td>No</td>\n",
       "    </tr>\n",
       "    <tr>\n",
       "      <th>3</th>\n",
       "      <td>7795-CFOCW</td>\n",
       "      <td>DSL</td>\n",
       "      <td>Yes</td>\n",
       "      <td>No</td>\n",
       "      <td>Yes</td>\n",
       "      <td>Yes</td>\n",
       "      <td>No</td>\n",
       "      <td>No</td>\n",
       "    </tr>\n",
       "    <tr>\n",
       "      <th>4</th>\n",
       "      <td>9237-HQITU</td>\n",
       "      <td>Fiber optic</td>\n",
       "      <td>No</td>\n",
       "      <td>No</td>\n",
       "      <td>No</td>\n",
       "      <td>No</td>\n",
       "      <td>No</td>\n",
       "      <td>No</td>\n",
       "    </tr>\n",
       "    <tr>\n",
       "      <th>5</th>\n",
       "      <td>9305-CDSKC</td>\n",
       "      <td>Fiber optic</td>\n",
       "      <td>No</td>\n",
       "      <td>No</td>\n",
       "      <td>Yes</td>\n",
       "      <td>No</td>\n",
       "      <td>Yes</td>\n",
       "      <td>Yes</td>\n",
       "    </tr>\n",
       "    <tr>\n",
       "      <th>6</th>\n",
       "      <td>1452-KIOVK</td>\n",
       "      <td>Fiber optic</td>\n",
       "      <td>No</td>\n",
       "      <td>Yes</td>\n",
       "      <td>No</td>\n",
       "      <td>No</td>\n",
       "      <td>Yes</td>\n",
       "      <td>No</td>\n",
       "    </tr>\n",
       "    <tr>\n",
       "      <th>7</th>\n",
       "      <td>6713-OKOMC</td>\n",
       "      <td>DSL</td>\n",
       "      <td>Yes</td>\n",
       "      <td>No</td>\n",
       "      <td>No</td>\n",
       "      <td>No</td>\n",
       "      <td>No</td>\n",
       "      <td>No</td>\n",
       "    </tr>\n",
       "    <tr>\n",
       "      <th>8</th>\n",
       "      <td>7892-POOKP</td>\n",
       "      <td>Fiber optic</td>\n",
       "      <td>No</td>\n",
       "      <td>No</td>\n",
       "      <td>Yes</td>\n",
       "      <td>Yes</td>\n",
       "      <td>Yes</td>\n",
       "      <td>Yes</td>\n",
       "    </tr>\n",
       "    <tr>\n",
       "      <th>9</th>\n",
       "      <td>6388-TABGU</td>\n",
       "      <td>DSL</td>\n",
       "      <td>Yes</td>\n",
       "      <td>Yes</td>\n",
       "      <td>No</td>\n",
       "      <td>No</td>\n",
       "      <td>No</td>\n",
       "      <td>No</td>\n",
       "    </tr>\n",
       "  </tbody>\n",
       "</table>\n",
       "</div>"
      ],
      "text/plain": [
       "   customerID InternetService OnlineSecurity OnlineBackup DeviceProtection  \\\n",
       "0  7590-VHVEG             DSL             No          Yes               No   \n",
       "1  5575-GNVDE             DSL            Yes           No              Yes   \n",
       "2  3668-QPYBK             DSL            Yes          Yes               No   \n",
       "3  7795-CFOCW             DSL            Yes           No              Yes   \n",
       "4  9237-HQITU     Fiber optic             No           No               No   \n",
       "5  9305-CDSKC     Fiber optic             No           No              Yes   \n",
       "6  1452-KIOVK     Fiber optic             No          Yes               No   \n",
       "7  6713-OKOMC             DSL            Yes           No               No   \n",
       "8  7892-POOKP     Fiber optic             No           No              Yes   \n",
       "9  6388-TABGU             DSL            Yes          Yes               No   \n",
       "\n",
       "  TechSupport StreamingTV StreamingMovies  \n",
       "0          No          No              No  \n",
       "1          No          No              No  \n",
       "2          No          No              No  \n",
       "3         Yes          No              No  \n",
       "4          No          No              No  \n",
       "5          No         Yes             Yes  \n",
       "6          No         Yes              No  \n",
       "7          No          No              No  \n",
       "8         Yes         Yes             Yes  \n",
       "9          No          No              No  "
      ]
     },
     "metadata": {},
     "output_type": "display_data"
    }
   ],
   "source": [
    "display(internet.describe(include='all'))\n",
    "display(internet.info())\n",
    "display(internet.head(10))"
   ]
  },
  {
   "cell_type": "markdown",
   "metadata": {},
   "source": [
    "### Findings"
   ]
  },
  {
   "cell_type": "markdown",
   "metadata": {},
   "source": [
    "This database is smaller than the previous ones. With only 5517 observations, all of them corresponding to a unique CustomerID. This would point to the fact that not all the clients have contracted internet services or any of the other services. Except for the customerID, all of the features present on this database, are binary. Including the Internet Service one. It seems like there are only 2 possible options for the internet as well. \n",
    "\n",
    "It is notable that the vast majority of the clients have fiber optic service and regarding the extra services, less than 50% of the clients that hired internet services hired each extra service individually. \n",
    "\n",
    "Preprocessing tasks:\n",
    "\n",
    "    -Name of the columns to lowercase.\n",
    "    -Encode the data \n",
    "\n",
    "Feature engineering tasks:\n",
    "\n",
    "    -When this dataframe is merged with the rest of them, it will be needed to identify clients who haven't hired internet services. It will be identified on the internet service column with a third option that says 'no' if they don't have internet service at all."
   ]
  },
  {
   "cell_type": "markdown",
   "metadata": {},
   "source": [
    "### Preprocessing"
   ]
  },
  {
   "cell_type": "code",
   "execution_count": 27,
   "metadata": {},
   "outputs": [
    {
     "name": "stdout",
     "output_type": "stream",
     "text": [
      "Index(['customerid', 'internetservice', 'onlinesecurity', 'onlinebackup',\n",
      "       'deviceprotection', 'techsupport', 'streamingtv', 'streamingmovies'],\n",
      "      dtype='object')\n"
     ]
    }
   ],
   "source": [
    "\n",
    "#Unifying columns headers to lowercase\n",
    "internet.columns = internet.columns.str.lower()\n",
    "print(internet.columns)\n"
   ]
  },
  {
   "cell_type": "markdown",
   "metadata": {},
   "source": [
    "No further actions will be done with this database at this step."
   ]
  },
  {
   "cell_type": "markdown",
   "metadata": {},
   "source": [
    "### Phone database"
   ]
  },
  {
   "cell_type": "code",
   "execution_count": 28,
   "metadata": {},
   "outputs": [
    {
     "data": {
      "text/html": [
       "<div>\n",
       "<style scoped>\n",
       "    .dataframe tbody tr th:only-of-type {\n",
       "        vertical-align: middle;\n",
       "    }\n",
       "\n",
       "    .dataframe tbody tr th {\n",
       "        vertical-align: top;\n",
       "    }\n",
       "\n",
       "    .dataframe thead th {\n",
       "        text-align: right;\n",
       "    }\n",
       "</style>\n",
       "<table border=\"1\" class=\"dataframe\">\n",
       "  <thead>\n",
       "    <tr style=\"text-align: right;\">\n",
       "      <th></th>\n",
       "      <th>customerID</th>\n",
       "      <th>MultipleLines</th>\n",
       "    </tr>\n",
       "  </thead>\n",
       "  <tbody>\n",
       "    <tr>\n",
       "      <th>count</th>\n",
       "      <td>6361</td>\n",
       "      <td>6361</td>\n",
       "    </tr>\n",
       "    <tr>\n",
       "      <th>unique</th>\n",
       "      <td>6361</td>\n",
       "      <td>2</td>\n",
       "    </tr>\n",
       "    <tr>\n",
       "      <th>top</th>\n",
       "      <td>1293-BSEUN</td>\n",
       "      <td>No</td>\n",
       "    </tr>\n",
       "    <tr>\n",
       "      <th>freq</th>\n",
       "      <td>1</td>\n",
       "      <td>3390</td>\n",
       "    </tr>\n",
       "  </tbody>\n",
       "</table>\n",
       "</div>"
      ],
      "text/plain": [
       "        customerID MultipleLines\n",
       "count         6361          6361\n",
       "unique        6361             2\n",
       "top     1293-BSEUN            No\n",
       "freq             1          3390"
      ]
     },
     "metadata": {},
     "output_type": "display_data"
    },
    {
     "name": "stdout",
     "output_type": "stream",
     "text": [
      "<class 'pandas.core.frame.DataFrame'>\n",
      "RangeIndex: 6361 entries, 0 to 6360\n",
      "Data columns (total 2 columns):\n",
      " #   Column         Non-Null Count  Dtype \n",
      "---  ------         --------------  ----- \n",
      " 0   customerID     6361 non-null   object\n",
      " 1   MultipleLines  6361 non-null   object\n",
      "dtypes: object(2)\n",
      "memory usage: 99.5+ KB\n"
     ]
    },
    {
     "data": {
      "text/plain": [
       "None"
      ]
     },
     "metadata": {},
     "output_type": "display_data"
    },
    {
     "data": {
      "text/html": [
       "<div>\n",
       "<style scoped>\n",
       "    .dataframe tbody tr th:only-of-type {\n",
       "        vertical-align: middle;\n",
       "    }\n",
       "\n",
       "    .dataframe tbody tr th {\n",
       "        vertical-align: top;\n",
       "    }\n",
       "\n",
       "    .dataframe thead th {\n",
       "        text-align: right;\n",
       "    }\n",
       "</style>\n",
       "<table border=\"1\" class=\"dataframe\">\n",
       "  <thead>\n",
       "    <tr style=\"text-align: right;\">\n",
       "      <th></th>\n",
       "      <th>customerID</th>\n",
       "      <th>MultipleLines</th>\n",
       "    </tr>\n",
       "  </thead>\n",
       "  <tbody>\n",
       "    <tr>\n",
       "      <th>0</th>\n",
       "      <td>5575-GNVDE</td>\n",
       "      <td>No</td>\n",
       "    </tr>\n",
       "    <tr>\n",
       "      <th>1</th>\n",
       "      <td>3668-QPYBK</td>\n",
       "      <td>No</td>\n",
       "    </tr>\n",
       "    <tr>\n",
       "      <th>2</th>\n",
       "      <td>9237-HQITU</td>\n",
       "      <td>No</td>\n",
       "    </tr>\n",
       "    <tr>\n",
       "      <th>3</th>\n",
       "      <td>9305-CDSKC</td>\n",
       "      <td>Yes</td>\n",
       "    </tr>\n",
       "    <tr>\n",
       "      <th>4</th>\n",
       "      <td>1452-KIOVK</td>\n",
       "      <td>Yes</td>\n",
       "    </tr>\n",
       "    <tr>\n",
       "      <th>5</th>\n",
       "      <td>7892-POOKP</td>\n",
       "      <td>Yes</td>\n",
       "    </tr>\n",
       "    <tr>\n",
       "      <th>6</th>\n",
       "      <td>6388-TABGU</td>\n",
       "      <td>No</td>\n",
       "    </tr>\n",
       "    <tr>\n",
       "      <th>7</th>\n",
       "      <td>9763-GRSKD</td>\n",
       "      <td>No</td>\n",
       "    </tr>\n",
       "    <tr>\n",
       "      <th>8</th>\n",
       "      <td>7469-LKBCI</td>\n",
       "      <td>No</td>\n",
       "    </tr>\n",
       "    <tr>\n",
       "      <th>9</th>\n",
       "      <td>8091-TTVAX</td>\n",
       "      <td>Yes</td>\n",
       "    </tr>\n",
       "  </tbody>\n",
       "</table>\n",
       "</div>"
      ],
      "text/plain": [
       "   customerID MultipleLines\n",
       "0  5575-GNVDE            No\n",
       "1  3668-QPYBK            No\n",
       "2  9237-HQITU            No\n",
       "3  9305-CDSKC           Yes\n",
       "4  1452-KIOVK           Yes\n",
       "5  7892-POOKP           Yes\n",
       "6  6388-TABGU            No\n",
       "7  9763-GRSKD            No\n",
       "8  7469-LKBCI            No\n",
       "9  8091-TTVAX           Yes"
      ]
     },
     "metadata": {},
     "output_type": "display_data"
    }
   ],
   "source": [
    "display(phone.describe(include='all'))\n",
    "display(phone.info())\n",
    "display(phone.head(10))"
   ]
  },
  {
   "cell_type": "markdown",
   "metadata": {},
   "source": [
    "### Findings"
   ]
  },
  {
   "cell_type": "markdown",
   "metadata": {},
   "source": [
    "This database only adds one more feature that shows whether the client has or not multiple phone lines. This one is also smaller than the first two, pointing out that not every client has hired phone services. \n",
    "\n",
    "Preprocessing tasks:\n",
    "\n",
    "-Name of the columns to lowercase.\n",
    "-Unify the binary features to be 0 and 1. \n",
    "\n",
    "Feature engineering tasks:\n",
    "\n",
    "-When merging this database to the rest of them, it will be advisable to add another column that simply shows whether a client has hired phone services or not, since the current one shows if it has one or more lines. \n"
   ]
  },
  {
   "cell_type": "markdown",
   "metadata": {},
   "source": [
    "### Preprocessing"
   ]
  },
  {
   "cell_type": "code",
   "execution_count": 29,
   "metadata": {},
   "outputs": [
    {
     "name": "stdout",
     "output_type": "stream",
     "text": [
      "Index(['customerid', 'multiplelines'], dtype='object')\n"
     ]
    }
   ],
   "source": [
    "#Unifying columns headers to lowercase\n",
    "phone.columns = phone.columns.str.lower()\n",
    "print(phone.columns)\n"
   ]
  },
  {
   "cell_type": "markdown",
   "metadata": {},
   "source": [
    "### Merging databases"
   ]
  },
  {
   "cell_type": "code",
   "execution_count": 30,
   "metadata": {},
   "outputs": [
    {
     "name": "stdout",
     "output_type": "stream",
     "text": [
      "<class 'pandas.core.frame.DataFrame'>\n",
      "Int64Index: 7043 entries, 0 to 7042\n",
      "Data columns (total 16 columns):\n",
      " #   Column            Non-Null Count  Dtype         \n",
      "---  ------            --------------  -----         \n",
      " 0   customerid        7043 non-null   object        \n",
      " 1   begindate         7043 non-null   datetime64[ns]\n",
      " 2   enddate           1869 non-null   datetime64[ns]\n",
      " 3   type              7043 non-null   object        \n",
      " 4   paperlessbilling  7043 non-null   object        \n",
      " 5   paymentmethod     7043 non-null   object        \n",
      " 6   monthlycharges    7043 non-null   float64       \n",
      " 7   totalcharges      7043 non-null   float64       \n",
      " 8   beginyear         7043 non-null   int64         \n",
      " 9   beginmonth        7043 non-null   int64         \n",
      " 10  contractduration  7043 non-null   int64         \n",
      " 11  contractended     7043 non-null   int64         \n",
      " 12  gender            7043 non-null   object        \n",
      " 13  seniorcitizen     7043 non-null   int64         \n",
      " 14  partner           7043 non-null   object        \n",
      " 15  dependents        7043 non-null   object        \n",
      "dtypes: datetime64[ns](2), float64(2), int64(5), object(7)\n",
      "memory usage: 935.4+ KB\n",
      "None\n"
     ]
    }
   ],
   "source": [
    "#Merging the contract and personal dataframes\n",
    "merged_df = pd.merge(contract, personal, on='customerid', how='outer')\n",
    "print(merged_df.info())"
   ]
  },
  {
   "cell_type": "code",
   "execution_count": 31,
   "metadata": {},
   "outputs": [
    {
     "name": "stdout",
     "output_type": "stream",
     "text": [
      "<class 'pandas.core.frame.DataFrame'>\n",
      "Int64Index: 7043 entries, 0 to 7042\n",
      "Data columns (total 23 columns):\n",
      " #   Column            Non-Null Count  Dtype         \n",
      "---  ------            --------------  -----         \n",
      " 0   customerid        7043 non-null   object        \n",
      " 1   begindate         7043 non-null   datetime64[ns]\n",
      " 2   enddate           1869 non-null   datetime64[ns]\n",
      " 3   type              7043 non-null   object        \n",
      " 4   paperlessbilling  7043 non-null   object        \n",
      " 5   paymentmethod     7043 non-null   object        \n",
      " 6   monthlycharges    7043 non-null   float64       \n",
      " 7   totalcharges      7043 non-null   float64       \n",
      " 8   beginyear         7043 non-null   int64         \n",
      " 9   beginmonth        7043 non-null   int64         \n",
      " 10  contractduration  7043 non-null   int64         \n",
      " 11  contractended     7043 non-null   int64         \n",
      " 12  gender            7043 non-null   object        \n",
      " 13  seniorcitizen     7043 non-null   int64         \n",
      " 14  partner           7043 non-null   object        \n",
      " 15  dependents        7043 non-null   object        \n",
      " 16  internetservice   7043 non-null   object        \n",
      " 17  onlinesecurity    7043 non-null   object        \n",
      " 18  onlinebackup      7043 non-null   object        \n",
      " 19  deviceprotection  7043 non-null   object        \n",
      " 20  techsupport       7043 non-null   object        \n",
      " 21  streamingtv       7043 non-null   object        \n",
      " 22  streamingmovies   7043 non-null   object        \n",
      "dtypes: datetime64[ns](2), float64(2), int64(5), object(14)\n",
      "memory usage: 1.3+ MB\n",
      "None\n"
     ]
    }
   ],
   "source": [
    "# Merging the new merged_df with the internet dataframe\n",
    "columns = internet.columns\n",
    "merged_df = pd.merge(merged_df, internet,  on='customerid', how='outer')\n",
    "merged_df[columns] = merged_df[columns].fillna('No')\n",
    "print(merged_df.info())"
   ]
  },
  {
   "cell_type": "markdown",
   "metadata": {},
   "source": [
    "In the following step we will be merging the entire df with the phone database. While doing that, we will create a feature that simply shows whether a client has hired phone services or not that will be named 'phoneservice', it will be created by comparing with the 'multiplelines' feature. If that column shows either 'yes' or 'no', it means that the client has at least one phone line. So, only clients that as NaN on the 'multiplelines' column, are client with no phone service at all. "
   ]
  },
  {
   "cell_type": "code",
   "execution_count": 32,
   "metadata": {},
   "outputs": [
    {
     "name": "stdout",
     "output_type": "stream",
     "text": [
      "<class 'pandas.core.frame.DataFrame'>\n",
      "Int64Index: 7043 entries, 0 to 7042\n",
      "Data columns (total 25 columns):\n",
      " #   Column            Non-Null Count  Dtype         \n",
      "---  ------            --------------  -----         \n",
      " 0   customerid        7043 non-null   object        \n",
      " 1   begindate         7043 non-null   datetime64[ns]\n",
      " 2   enddate           1869 non-null   datetime64[ns]\n",
      " 3   type              7043 non-null   object        \n",
      " 4   paperlessbilling  7043 non-null   object        \n",
      " 5   paymentmethod     7043 non-null   object        \n",
      " 6   monthlycharges    7043 non-null   float64       \n",
      " 7   totalcharges      7043 non-null   float64       \n",
      " 8   beginyear         7043 non-null   int64         \n",
      " 9   beginmonth        7043 non-null   int64         \n",
      " 10  contractduration  7043 non-null   int64         \n",
      " 11  contractended     7043 non-null   int64         \n",
      " 12  gender            7043 non-null   object        \n",
      " 13  seniorcitizen     7043 non-null   int64         \n",
      " 14  partner           7043 non-null   object        \n",
      " 15  dependents        7043 non-null   object        \n",
      " 16  internetservice   7043 non-null   object        \n",
      " 17  onlinesecurity    7043 non-null   object        \n",
      " 18  onlinebackup      7043 non-null   object        \n",
      " 19  deviceprotection  7043 non-null   object        \n",
      " 20  techsupport       7043 non-null   object        \n",
      " 21  streamingtv       7043 non-null   object        \n",
      " 22  streamingmovies   7043 non-null   object        \n",
      " 23  multiplelines     7043 non-null   object        \n",
      " 24  phoneservice      7043 non-null   int64         \n",
      "dtypes: datetime64[ns](2), float64(2), int64(6), object(15)\n",
      "memory usage: 1.4+ MB\n",
      "None\n"
     ]
    }
   ],
   "source": [
    "# Merging the new merged_df with the phone dataframe\n",
    "merged_df = pd.merge(merged_df, phone,  on='customerid', how='outer')\n",
    "merged_df['phoneservice'] = merged_df['multiplelines'].notna().astype(int)\n",
    "merged_df['multiplelines'] = merged_df['multiplelines'].fillna('No')\n",
    "print(merged_df.info())"
   ]
  },
  {
   "cell_type": "code",
   "execution_count": 33,
   "metadata": {},
   "outputs": [
    {
     "data": {
      "text/html": [
       "<div>\n",
       "<style scoped>\n",
       "    .dataframe tbody tr th:only-of-type {\n",
       "        vertical-align: middle;\n",
       "    }\n",
       "\n",
       "    .dataframe tbody tr th {\n",
       "        vertical-align: top;\n",
       "    }\n",
       "\n",
       "    .dataframe thead th {\n",
       "        text-align: right;\n",
       "    }\n",
       "</style>\n",
       "<table border=\"1\" class=\"dataframe\">\n",
       "  <thead>\n",
       "    <tr style=\"text-align: right;\">\n",
       "      <th></th>\n",
       "      <th>customerid</th>\n",
       "      <th>begindate</th>\n",
       "      <th>enddate</th>\n",
       "      <th>type</th>\n",
       "      <th>paperlessbilling</th>\n",
       "      <th>paymentmethod</th>\n",
       "      <th>monthlycharges</th>\n",
       "      <th>totalcharges</th>\n",
       "      <th>beginyear</th>\n",
       "      <th>beginmonth</th>\n",
       "      <th>...</th>\n",
       "      <th>dependents</th>\n",
       "      <th>internetservice</th>\n",
       "      <th>onlinesecurity</th>\n",
       "      <th>onlinebackup</th>\n",
       "      <th>deviceprotection</th>\n",
       "      <th>techsupport</th>\n",
       "      <th>streamingtv</th>\n",
       "      <th>streamingmovies</th>\n",
       "      <th>multiplelines</th>\n",
       "      <th>phoneservice</th>\n",
       "    </tr>\n",
       "  </thead>\n",
       "  <tbody>\n",
       "    <tr>\n",
       "      <th>0</th>\n",
       "      <td>7590-VHVEG</td>\n",
       "      <td>2020-01-01</td>\n",
       "      <td>NaT</td>\n",
       "      <td>Month-to-month</td>\n",
       "      <td>Yes</td>\n",
       "      <td>Electronic check</td>\n",
       "      <td>29.85</td>\n",
       "      <td>29.85</td>\n",
       "      <td>2020</td>\n",
       "      <td>1</td>\n",
       "      <td>...</td>\n",
       "      <td>No</td>\n",
       "      <td>DSL</td>\n",
       "      <td>No</td>\n",
       "      <td>Yes</td>\n",
       "      <td>No</td>\n",
       "      <td>No</td>\n",
       "      <td>No</td>\n",
       "      <td>No</td>\n",
       "      <td>No</td>\n",
       "      <td>0</td>\n",
       "    </tr>\n",
       "    <tr>\n",
       "      <th>1</th>\n",
       "      <td>5575-GNVDE</td>\n",
       "      <td>2017-04-01</td>\n",
       "      <td>NaT</td>\n",
       "      <td>One year</td>\n",
       "      <td>No</td>\n",
       "      <td>Mailed check</td>\n",
       "      <td>56.95</td>\n",
       "      <td>1889.50</td>\n",
       "      <td>2017</td>\n",
       "      <td>4</td>\n",
       "      <td>...</td>\n",
       "      <td>No</td>\n",
       "      <td>DSL</td>\n",
       "      <td>Yes</td>\n",
       "      <td>No</td>\n",
       "      <td>Yes</td>\n",
       "      <td>No</td>\n",
       "      <td>No</td>\n",
       "      <td>No</td>\n",
       "      <td>No</td>\n",
       "      <td>1</td>\n",
       "    </tr>\n",
       "    <tr>\n",
       "      <th>2</th>\n",
       "      <td>3668-QPYBK</td>\n",
       "      <td>2019-10-01</td>\n",
       "      <td>2019-12-01</td>\n",
       "      <td>Month-to-month</td>\n",
       "      <td>Yes</td>\n",
       "      <td>Mailed check</td>\n",
       "      <td>53.85</td>\n",
       "      <td>108.15</td>\n",
       "      <td>2019</td>\n",
       "      <td>10</td>\n",
       "      <td>...</td>\n",
       "      <td>No</td>\n",
       "      <td>DSL</td>\n",
       "      <td>Yes</td>\n",
       "      <td>Yes</td>\n",
       "      <td>No</td>\n",
       "      <td>No</td>\n",
       "      <td>No</td>\n",
       "      <td>No</td>\n",
       "      <td>No</td>\n",
       "      <td>1</td>\n",
       "    </tr>\n",
       "    <tr>\n",
       "      <th>3</th>\n",
       "      <td>7795-CFOCW</td>\n",
       "      <td>2016-05-01</td>\n",
       "      <td>NaT</td>\n",
       "      <td>One year</td>\n",
       "      <td>No</td>\n",
       "      <td>Bank transfer (automatic)</td>\n",
       "      <td>42.30</td>\n",
       "      <td>1840.75</td>\n",
       "      <td>2016</td>\n",
       "      <td>5</td>\n",
       "      <td>...</td>\n",
       "      <td>No</td>\n",
       "      <td>DSL</td>\n",
       "      <td>Yes</td>\n",
       "      <td>No</td>\n",
       "      <td>Yes</td>\n",
       "      <td>Yes</td>\n",
       "      <td>No</td>\n",
       "      <td>No</td>\n",
       "      <td>No</td>\n",
       "      <td>0</td>\n",
       "    </tr>\n",
       "    <tr>\n",
       "      <th>4</th>\n",
       "      <td>9237-HQITU</td>\n",
       "      <td>2019-09-01</td>\n",
       "      <td>2019-11-01</td>\n",
       "      <td>Month-to-month</td>\n",
       "      <td>Yes</td>\n",
       "      <td>Electronic check</td>\n",
       "      <td>70.70</td>\n",
       "      <td>151.65</td>\n",
       "      <td>2019</td>\n",
       "      <td>9</td>\n",
       "      <td>...</td>\n",
       "      <td>No</td>\n",
       "      <td>Fiber optic</td>\n",
       "      <td>No</td>\n",
       "      <td>No</td>\n",
       "      <td>No</td>\n",
       "      <td>No</td>\n",
       "      <td>No</td>\n",
       "      <td>No</td>\n",
       "      <td>No</td>\n",
       "      <td>1</td>\n",
       "    </tr>\n",
       "  </tbody>\n",
       "</table>\n",
       "<p>5 rows × 25 columns</p>\n",
       "</div>"
      ],
      "text/plain": [
       "   customerid  begindate    enddate            type paperlessbilling  \\\n",
       "0  7590-VHVEG 2020-01-01        NaT  Month-to-month              Yes   \n",
       "1  5575-GNVDE 2017-04-01        NaT        One year               No   \n",
       "2  3668-QPYBK 2019-10-01 2019-12-01  Month-to-month              Yes   \n",
       "3  7795-CFOCW 2016-05-01        NaT        One year               No   \n",
       "4  9237-HQITU 2019-09-01 2019-11-01  Month-to-month              Yes   \n",
       "\n",
       "               paymentmethod  monthlycharges  totalcharges  beginyear  \\\n",
       "0           Electronic check           29.85         29.85       2020   \n",
       "1               Mailed check           56.95       1889.50       2017   \n",
       "2               Mailed check           53.85        108.15       2019   \n",
       "3  Bank transfer (automatic)           42.30       1840.75       2016   \n",
       "4           Electronic check           70.70        151.65       2019   \n",
       "\n",
       "   beginmonth  ...  dependents  internetservice onlinesecurity  onlinebackup  \\\n",
       "0           1  ...          No              DSL             No           Yes   \n",
       "1           4  ...          No              DSL            Yes            No   \n",
       "2          10  ...          No              DSL            Yes           Yes   \n",
       "3           5  ...          No              DSL            Yes            No   \n",
       "4           9  ...          No      Fiber optic             No            No   \n",
       "\n",
       "  deviceprotection techsupport streamingtv streamingmovies multiplelines  \\\n",
       "0               No          No          No              No            No   \n",
       "1              Yes          No          No              No            No   \n",
       "2               No          No          No              No            No   \n",
       "3              Yes         Yes          No              No            No   \n",
       "4               No          No          No              No            No   \n",
       "\n",
       "  phoneservice  \n",
       "0            0  \n",
       "1            1  \n",
       "2            1  \n",
       "3            0  \n",
       "4            1  \n",
       "\n",
       "[5 rows x 25 columns]"
      ]
     },
     "metadata": {},
     "output_type": "display_data"
    }
   ],
   "source": [
    "#Getting a glimpse at the final dataframe\n",
    "display(merged_df.head())"
   ]
  },
  {
   "cell_type": "markdown",
   "metadata": {},
   "source": [
    "Now that the dataframes have been merged into one, there is no use in the model for the customerid column since it is only an identifier. We will get rid of it before moving forward. Also, since we obtained the year and month out of the begin date in a separate column, there is no use in keeping the being date since it has the same information."
   ]
  },
  {
   "cell_type": "code",
   "execution_count": 34,
   "metadata": {},
   "outputs": [],
   "source": [
    "#Getting rid of the customerid column\n",
    "merged_df = merged_df.drop(['customerid', 'begindate'], axis = 1)"
   ]
  },
  {
   "cell_type": "markdown",
   "metadata": {},
   "source": [
    "### Additional findings"
   ]
  },
  {
   "cell_type": "code",
   "execution_count": 35,
   "metadata": {},
   "outputs": [
    {
     "name": "stdout",
     "output_type": "stream",
     "text": [
      "<class 'pandas.core.frame.DataFrame'>\n",
      "Int64Index: 1869 entries, 2 to 7041\n",
      "Data columns (total 23 columns):\n",
      " #   Column            Non-Null Count  Dtype         \n",
      "---  ------            --------------  -----         \n",
      " 0   enddate           1869 non-null   datetime64[ns]\n",
      " 1   type              1869 non-null   object        \n",
      " 2   paperlessbilling  1869 non-null   object        \n",
      " 3   paymentmethod     1869 non-null   object        \n",
      " 4   monthlycharges    1869 non-null   float64       \n",
      " 5   totalcharges      1869 non-null   float64       \n",
      " 6   beginyear         1869 non-null   int64         \n",
      " 7   beginmonth        1869 non-null   int64         \n",
      " 8   contractduration  1869 non-null   int64         \n",
      " 9   contractended     1869 non-null   int64         \n",
      " 10  gender            1869 non-null   object        \n",
      " 11  seniorcitizen     1869 non-null   int64         \n",
      " 12  partner           1869 non-null   object        \n",
      " 13  dependents        1869 non-null   object        \n",
      " 14  internetservice   1869 non-null   object        \n",
      " 15  onlinesecurity    1869 non-null   object        \n",
      " 16  onlinebackup      1869 non-null   object        \n",
      " 17  deviceprotection  1869 non-null   object        \n",
      " 18  techsupport       1869 non-null   object        \n",
      " 19  streamingtv       1869 non-null   object        \n",
      " 20  streamingmovies   1869 non-null   object        \n",
      " 21  multiplelines     1869 non-null   object        \n",
      " 22  phoneservice      1869 non-null   int64         \n",
      "dtypes: datetime64[ns](1), float64(2), int64(6), object(14)\n",
      "memory usage: 350.4+ KB\n"
     ]
    },
    {
     "data": {
      "text/plain": [
       "None"
      ]
     },
     "metadata": {},
     "output_type": "display_data"
    },
    {
     "data": {
      "text/html": [
       "<div>\n",
       "<style scoped>\n",
       "    .dataframe tbody tr th:only-of-type {\n",
       "        vertical-align: middle;\n",
       "    }\n",
       "\n",
       "    .dataframe tbody tr th {\n",
       "        vertical-align: top;\n",
       "    }\n",
       "\n",
       "    .dataframe thead th {\n",
       "        text-align: right;\n",
       "    }\n",
       "</style>\n",
       "<table border=\"1\" class=\"dataframe\">\n",
       "  <thead>\n",
       "    <tr style=\"text-align: right;\">\n",
       "      <th></th>\n",
       "      <th>enddate</th>\n",
       "      <th>type</th>\n",
       "      <th>paperlessbilling</th>\n",
       "      <th>paymentmethod</th>\n",
       "      <th>monthlycharges</th>\n",
       "      <th>totalcharges</th>\n",
       "      <th>beginyear</th>\n",
       "      <th>beginmonth</th>\n",
       "      <th>contractduration</th>\n",
       "      <th>contractended</th>\n",
       "      <th>...</th>\n",
       "      <th>dependents</th>\n",
       "      <th>internetservice</th>\n",
       "      <th>onlinesecurity</th>\n",
       "      <th>onlinebackup</th>\n",
       "      <th>deviceprotection</th>\n",
       "      <th>techsupport</th>\n",
       "      <th>streamingtv</th>\n",
       "      <th>streamingmovies</th>\n",
       "      <th>multiplelines</th>\n",
       "      <th>phoneservice</th>\n",
       "    </tr>\n",
       "  </thead>\n",
       "  <tbody>\n",
       "    <tr>\n",
       "      <th>count</th>\n",
       "      <td>1869</td>\n",
       "      <td>1869</td>\n",
       "      <td>1869</td>\n",
       "      <td>1869</td>\n",
       "      <td>1869.000000</td>\n",
       "      <td>1869.000000</td>\n",
       "      <td>1869.000000</td>\n",
       "      <td>1869.000000</td>\n",
       "      <td>1869.000000</td>\n",
       "      <td>1869.0</td>\n",
       "      <td>...</td>\n",
       "      <td>1869</td>\n",
       "      <td>1869</td>\n",
       "      <td>1869</td>\n",
       "      <td>1869</td>\n",
       "      <td>1869</td>\n",
       "      <td>1869</td>\n",
       "      <td>1869</td>\n",
       "      <td>1869</td>\n",
       "      <td>1869</td>\n",
       "      <td>1869.000000</td>\n",
       "    </tr>\n",
       "    <tr>\n",
       "      <th>unique</th>\n",
       "      <td>4</td>\n",
       "      <td>3</td>\n",
       "      <td>2</td>\n",
       "      <td>4</td>\n",
       "      <td>NaN</td>\n",
       "      <td>NaN</td>\n",
       "      <td>NaN</td>\n",
       "      <td>NaN</td>\n",
       "      <td>NaN</td>\n",
       "      <td>NaN</td>\n",
       "      <td>...</td>\n",
       "      <td>2</td>\n",
       "      <td>3</td>\n",
       "      <td>2</td>\n",
       "      <td>2</td>\n",
       "      <td>2</td>\n",
       "      <td>2</td>\n",
       "      <td>2</td>\n",
       "      <td>2</td>\n",
       "      <td>2</td>\n",
       "      <td>NaN</td>\n",
       "    </tr>\n",
       "    <tr>\n",
       "      <th>top</th>\n",
       "      <td>2019-11-01 00:00:00</td>\n",
       "      <td>Month-to-month</td>\n",
       "      <td>Yes</td>\n",
       "      <td>Electronic check</td>\n",
       "      <td>NaN</td>\n",
       "      <td>NaN</td>\n",
       "      <td>NaN</td>\n",
       "      <td>NaN</td>\n",
       "      <td>NaN</td>\n",
       "      <td>NaN</td>\n",
       "      <td>...</td>\n",
       "      <td>No</td>\n",
       "      <td>Fiber optic</td>\n",
       "      <td>No</td>\n",
       "      <td>No</td>\n",
       "      <td>No</td>\n",
       "      <td>No</td>\n",
       "      <td>No</td>\n",
       "      <td>No</td>\n",
       "      <td>No</td>\n",
       "      <td>NaN</td>\n",
       "    </tr>\n",
       "    <tr>\n",
       "      <th>freq</th>\n",
       "      <td>485</td>\n",
       "      <td>1655</td>\n",
       "      <td>1400</td>\n",
       "      <td>1071</td>\n",
       "      <td>NaN</td>\n",
       "      <td>NaN</td>\n",
       "      <td>NaN</td>\n",
       "      <td>NaN</td>\n",
       "      <td>NaN</td>\n",
       "      <td>NaN</td>\n",
       "      <td>...</td>\n",
       "      <td>1543</td>\n",
       "      <td>1297</td>\n",
       "      <td>1574</td>\n",
       "      <td>1346</td>\n",
       "      <td>1324</td>\n",
       "      <td>1559</td>\n",
       "      <td>1055</td>\n",
       "      <td>1051</td>\n",
       "      <td>1019</td>\n",
       "      <td>NaN</td>\n",
       "    </tr>\n",
       "    <tr>\n",
       "      <th>first</th>\n",
       "      <td>2019-10-01 00:00:00</td>\n",
       "      <td>NaN</td>\n",
       "      <td>NaN</td>\n",
       "      <td>NaN</td>\n",
       "      <td>NaN</td>\n",
       "      <td>NaN</td>\n",
       "      <td>NaN</td>\n",
       "      <td>NaN</td>\n",
       "      <td>NaN</td>\n",
       "      <td>NaN</td>\n",
       "      <td>...</td>\n",
       "      <td>NaN</td>\n",
       "      <td>NaN</td>\n",
       "      <td>NaN</td>\n",
       "      <td>NaN</td>\n",
       "      <td>NaN</td>\n",
       "      <td>NaN</td>\n",
       "      <td>NaN</td>\n",
       "      <td>NaN</td>\n",
       "      <td>NaN</td>\n",
       "      <td>NaN</td>\n",
       "    </tr>\n",
       "    <tr>\n",
       "      <th>last</th>\n",
       "      <td>2020-01-01 00:00:00</td>\n",
       "      <td>NaN</td>\n",
       "      <td>NaN</td>\n",
       "      <td>NaN</td>\n",
       "      <td>NaN</td>\n",
       "      <td>NaN</td>\n",
       "      <td>NaN</td>\n",
       "      <td>NaN</td>\n",
       "      <td>NaN</td>\n",
       "      <td>NaN</td>\n",
       "      <td>...</td>\n",
       "      <td>NaN</td>\n",
       "      <td>NaN</td>\n",
       "      <td>NaN</td>\n",
       "      <td>NaN</td>\n",
       "      <td>NaN</td>\n",
       "      <td>NaN</td>\n",
       "      <td>NaN</td>\n",
       "      <td>NaN</td>\n",
       "      <td>NaN</td>\n",
       "      <td>NaN</td>\n",
       "    </tr>\n",
       "    <tr>\n",
       "      <th>mean</th>\n",
       "      <td>NaN</td>\n",
       "      <td>NaN</td>\n",
       "      <td>NaN</td>\n",
       "      <td>NaN</td>\n",
       "      <td>74.441332</td>\n",
       "      <td>1531.796094</td>\n",
       "      <td>2017.834671</td>\n",
       "      <td>7.501338</td>\n",
       "      <td>17.979133</td>\n",
       "      <td>1.0</td>\n",
       "      <td>...</td>\n",
       "      <td>NaN</td>\n",
       "      <td>NaN</td>\n",
       "      <td>NaN</td>\n",
       "      <td>NaN</td>\n",
       "      <td>NaN</td>\n",
       "      <td>NaN</td>\n",
       "      <td>NaN</td>\n",
       "      <td>NaN</td>\n",
       "      <td>NaN</td>\n",
       "      <td>0.909042</td>\n",
       "    </tr>\n",
       "    <tr>\n",
       "      <th>std</th>\n",
       "      <td>NaN</td>\n",
       "      <td>NaN</td>\n",
       "      <td>NaN</td>\n",
       "      <td>NaN</td>\n",
       "      <td>24.666053</td>\n",
       "      <td>1890.822994</td>\n",
       "      <td>1.566498</td>\n",
       "      <td>3.350129</td>\n",
       "      <td>19.531123</td>\n",
       "      <td>0.0</td>\n",
       "      <td>...</td>\n",
       "      <td>NaN</td>\n",
       "      <td>NaN</td>\n",
       "      <td>NaN</td>\n",
       "      <td>NaN</td>\n",
       "      <td>NaN</td>\n",
       "      <td>NaN</td>\n",
       "      <td>NaN</td>\n",
       "      <td>NaN</td>\n",
       "      <td>NaN</td>\n",
       "      <td>0.287626</td>\n",
       "    </tr>\n",
       "    <tr>\n",
       "      <th>min</th>\n",
       "      <td>NaN</td>\n",
       "      <td>NaN</td>\n",
       "      <td>NaN</td>\n",
       "      <td>NaN</td>\n",
       "      <td>18.850000</td>\n",
       "      <td>18.850000</td>\n",
       "      <td>2013.000000</td>\n",
       "      <td>1.000000</td>\n",
       "      <td>1.000000</td>\n",
       "      <td>1.0</td>\n",
       "      <td>...</td>\n",
       "      <td>NaN</td>\n",
       "      <td>NaN</td>\n",
       "      <td>NaN</td>\n",
       "      <td>NaN</td>\n",
       "      <td>NaN</td>\n",
       "      <td>NaN</td>\n",
       "      <td>NaN</td>\n",
       "      <td>NaN</td>\n",
       "      <td>NaN</td>\n",
       "      <td>0.000000</td>\n",
       "    </tr>\n",
       "    <tr>\n",
       "      <th>25%</th>\n",
       "      <td>NaN</td>\n",
       "      <td>NaN</td>\n",
       "      <td>NaN</td>\n",
       "      <td>NaN</td>\n",
       "      <td>56.150000</td>\n",
       "      <td>134.500000</td>\n",
       "      <td>2017.000000</td>\n",
       "      <td>5.000000</td>\n",
       "      <td>2.000000</td>\n",
       "      <td>1.0</td>\n",
       "      <td>...</td>\n",
       "      <td>NaN</td>\n",
       "      <td>NaN</td>\n",
       "      <td>NaN</td>\n",
       "      <td>NaN</td>\n",
       "      <td>NaN</td>\n",
       "      <td>NaN</td>\n",
       "      <td>NaN</td>\n",
       "      <td>NaN</td>\n",
       "      <td>NaN</td>\n",
       "      <td>1.000000</td>\n",
       "    </tr>\n",
       "    <tr>\n",
       "      <th>50%</th>\n",
       "      <td>NaN</td>\n",
       "      <td>NaN</td>\n",
       "      <td>NaN</td>\n",
       "      <td>NaN</td>\n",
       "      <td>79.650000</td>\n",
       "      <td>703.550000</td>\n",
       "      <td>2019.000000</td>\n",
       "      <td>8.000000</td>\n",
       "      <td>10.000000</td>\n",
       "      <td>1.0</td>\n",
       "      <td>...</td>\n",
       "      <td>NaN</td>\n",
       "      <td>NaN</td>\n",
       "      <td>NaN</td>\n",
       "      <td>NaN</td>\n",
       "      <td>NaN</td>\n",
       "      <td>NaN</td>\n",
       "      <td>NaN</td>\n",
       "      <td>NaN</td>\n",
       "      <td>NaN</td>\n",
       "      <td>1.000000</td>\n",
       "    </tr>\n",
       "    <tr>\n",
       "      <th>75%</th>\n",
       "      <td>NaN</td>\n",
       "      <td>NaN</td>\n",
       "      <td>NaN</td>\n",
       "      <td>NaN</td>\n",
       "      <td>94.200000</td>\n",
       "      <td>2331.300000</td>\n",
       "      <td>2019.000000</td>\n",
       "      <td>10.000000</td>\n",
       "      <td>29.000000</td>\n",
       "      <td>1.0</td>\n",
       "      <td>...</td>\n",
       "      <td>NaN</td>\n",
       "      <td>NaN</td>\n",
       "      <td>NaN</td>\n",
       "      <td>NaN</td>\n",
       "      <td>NaN</td>\n",
       "      <td>NaN</td>\n",
       "      <td>NaN</td>\n",
       "      <td>NaN</td>\n",
       "      <td>NaN</td>\n",
       "      <td>1.000000</td>\n",
       "    </tr>\n",
       "    <tr>\n",
       "      <th>max</th>\n",
       "      <td>NaN</td>\n",
       "      <td>NaN</td>\n",
       "      <td>NaN</td>\n",
       "      <td>NaN</td>\n",
       "      <td>118.350000</td>\n",
       "      <td>8684.800000</td>\n",
       "      <td>2019.000000</td>\n",
       "      <td>12.000000</td>\n",
       "      <td>72.000000</td>\n",
       "      <td>1.0</td>\n",
       "      <td>...</td>\n",
       "      <td>NaN</td>\n",
       "      <td>NaN</td>\n",
       "      <td>NaN</td>\n",
       "      <td>NaN</td>\n",
       "      <td>NaN</td>\n",
       "      <td>NaN</td>\n",
       "      <td>NaN</td>\n",
       "      <td>NaN</td>\n",
       "      <td>NaN</td>\n",
       "      <td>1.000000</td>\n",
       "    </tr>\n",
       "  </tbody>\n",
       "</table>\n",
       "<p>13 rows × 23 columns</p>\n",
       "</div>"
      ],
      "text/plain": [
       "                    enddate            type paperlessbilling  \\\n",
       "count                  1869            1869             1869   \n",
       "unique                    4               3                2   \n",
       "top     2019-11-01 00:00:00  Month-to-month              Yes   \n",
       "freq                    485            1655             1400   \n",
       "first   2019-10-01 00:00:00             NaN              NaN   \n",
       "last    2020-01-01 00:00:00             NaN              NaN   \n",
       "mean                    NaN             NaN              NaN   \n",
       "std                     NaN             NaN              NaN   \n",
       "min                     NaN             NaN              NaN   \n",
       "25%                     NaN             NaN              NaN   \n",
       "50%                     NaN             NaN              NaN   \n",
       "75%                     NaN             NaN              NaN   \n",
       "max                     NaN             NaN              NaN   \n",
       "\n",
       "           paymentmethod  monthlycharges  totalcharges    beginyear  \\\n",
       "count               1869     1869.000000   1869.000000  1869.000000   \n",
       "unique                 4             NaN           NaN          NaN   \n",
       "top     Electronic check             NaN           NaN          NaN   \n",
       "freq                1071             NaN           NaN          NaN   \n",
       "first                NaN             NaN           NaN          NaN   \n",
       "last                 NaN             NaN           NaN          NaN   \n",
       "mean                 NaN       74.441332   1531.796094  2017.834671   \n",
       "std                  NaN       24.666053   1890.822994     1.566498   \n",
       "min                  NaN       18.850000     18.850000  2013.000000   \n",
       "25%                  NaN       56.150000    134.500000  2017.000000   \n",
       "50%                  NaN       79.650000    703.550000  2019.000000   \n",
       "75%                  NaN       94.200000   2331.300000  2019.000000   \n",
       "max                  NaN      118.350000   8684.800000  2019.000000   \n",
       "\n",
       "         beginmonth  contractduration  contractended  ... dependents  \\\n",
       "count   1869.000000       1869.000000         1869.0  ...       1869   \n",
       "unique          NaN               NaN            NaN  ...          2   \n",
       "top             NaN               NaN            NaN  ...         No   \n",
       "freq            NaN               NaN            NaN  ...       1543   \n",
       "first           NaN               NaN            NaN  ...        NaN   \n",
       "last            NaN               NaN            NaN  ...        NaN   \n",
       "mean       7.501338         17.979133            1.0  ...        NaN   \n",
       "std        3.350129         19.531123            0.0  ...        NaN   \n",
       "min        1.000000          1.000000            1.0  ...        NaN   \n",
       "25%        5.000000          2.000000            1.0  ...        NaN   \n",
       "50%        8.000000         10.000000            1.0  ...        NaN   \n",
       "75%       10.000000         29.000000            1.0  ...        NaN   \n",
       "max       12.000000         72.000000            1.0  ...        NaN   \n",
       "\n",
       "        internetservice onlinesecurity onlinebackup deviceprotection  \\\n",
       "count              1869           1869         1869             1869   \n",
       "unique                3              2            2                2   \n",
       "top         Fiber optic             No           No               No   \n",
       "freq               1297           1574         1346             1324   \n",
       "first               NaN            NaN          NaN              NaN   \n",
       "last                NaN            NaN          NaN              NaN   \n",
       "mean                NaN            NaN          NaN              NaN   \n",
       "std                 NaN            NaN          NaN              NaN   \n",
       "min                 NaN            NaN          NaN              NaN   \n",
       "25%                 NaN            NaN          NaN              NaN   \n",
       "50%                 NaN            NaN          NaN              NaN   \n",
       "75%                 NaN            NaN          NaN              NaN   \n",
       "max                 NaN            NaN          NaN              NaN   \n",
       "\n",
       "       techsupport streamingtv streamingmovies multiplelines phoneservice  \n",
       "count         1869        1869            1869          1869  1869.000000  \n",
       "unique           2           2               2             2          NaN  \n",
       "top             No          No              No            No          NaN  \n",
       "freq          1559        1055            1051          1019          NaN  \n",
       "first          NaN         NaN             NaN           NaN          NaN  \n",
       "last           NaN         NaN             NaN           NaN          NaN  \n",
       "mean           NaN         NaN             NaN           NaN     0.909042  \n",
       "std            NaN         NaN             NaN           NaN     0.287626  \n",
       "min            NaN         NaN             NaN           NaN     0.000000  \n",
       "25%            NaN         NaN             NaN           NaN     1.000000  \n",
       "50%            NaN         NaN             NaN           NaN     1.000000  \n",
       "75%            NaN         NaN             NaN           NaN     1.000000  \n",
       "max            NaN         NaN             NaN           NaN     1.000000  \n",
       "\n",
       "[13 rows x 23 columns]"
      ]
     },
     "metadata": {},
     "output_type": "display_data"
    }
   ],
   "source": [
    "#Creating a dataframe containing only the clients that ended the contract\n",
    "ended = merged_df[merged_df['contractended']==1]\n",
    "display(ended.info())\n",
    "display(ended.describe(include='all'))"
   ]
  },
  {
   "cell_type": "markdown",
   "metadata": {},
   "source": [
    "Now that we have a dataframe with all the information, it seemed interesting to check with the describe method if any information pops up when filtering only the clients that ended the contract. At a glimpse, the following cought my attention:\n",
    "\n",
    "- 88.5% of the clients had a month to month type of contract. \n",
    "- 75% of them were enrolled in paperless billing.\n",
    "- 57% paid via electronic check. \n",
    "- 82.5% of them don't have dependents.\n",
    "- It seems like the vast majority of them didn't hire additional services."
   ]
  },
  {
   "cell_type": "code",
   "execution_count": 36,
   "metadata": {},
   "outputs": [
    {
     "data": {
      "image/png": "[encoded data removed]",
      "text/plain": [
       "<Figure size 1000x400 with 2 Axes>"
      ]
     },
     "metadata": {},
     "output_type": "display_data"
    }
   ],
   "source": [
    "#Analizing the distribution of the MonthlyCharge between clients that ended the contract\n",
    "fig, ax = plt.subplots(1, 2, figsize=(10, 4))\n",
    "sns.histplot(data=ended, x=\"monthlycharges\", kde=True, ax=ax[0])\n",
    "sns.boxplot(x=\"monthlycharges\", data=ended, ax=ax[1]) \n",
    "plt.title(\"Monthly charges distribution\")\n",
    "ax[0].set(xlabel='Monthly charges', ylabel='Number of clients')\n",
    "ax[1].set_xlabel('Monthly charges')\n",
    "plt.show()"
   ]
  },
  {
   "cell_type": "code",
   "execution_count": 37,
   "metadata": {},
   "outputs": [
    {
     "name": "stdout",
     "output_type": "stream",
     "text": [
      "The mean for the Monthly Charges column is 74.44133226324237\n",
      "The median for the Monthly Charges column is 79.65\n",
      "The mode for the Monthly Charges column is 74.4\n"
     ]
    }
   ],
   "source": [
    "print('The mean for the Monthly Charges column is', statistics.mean(ended['monthlycharges']))\n",
    "print('The median for the Monthly Charges column is', statistics.median(ended['monthlycharges']))\n",
    "print('The mode for the Monthly Charges column is', statistics.mode(ended['monthlycharges']))"
   ]
  },
  {
   "cell_type": "markdown",
   "metadata": {},
   "source": [
    "The client that is ending the contract has an average monthly payment higher than when considering all clients. For all clients the mean monthly charge was of 64.76 while for clients that ended the contract it is of 74.44.\n",
    "It is also interesting to see that the mode for these clients is of 74.4 while for the entire dataframe it was of 20.05. \n",
    "The company is losing the clients with the bigger tickets. "
   ]
  },
  {
   "cell_type": "code",
   "execution_count": 38,
   "metadata": {},
   "outputs": [
    {
     "data": {
      "image/png": "[encoded data removed]",
      "text/plain": [
       "<Figure size 1000x400 with 2 Axes>"
      ]
     },
     "metadata": {},
     "output_type": "display_data"
    }
   ],
   "source": [
    "#Analizing the distribution of the contract duration\n",
    "fig, ax = plt.subplots(1, 2, figsize=(10, 4))\n",
    "sns.histplot(data=ended, x=\"contractduration\", kde=True, ax=ax[0])\n",
    "sns.boxplot(x=\"contractduration\", data=ended, ax=ax[1]) \n",
    "plt.title(\"Contract duration distribution\")\n",
    "ax[0].set(xlabel='Contract duration', ylabel='Number of clients')\n",
    "ax[1].set_xlabel('Contract duration')\n",
    "plt.show()"
   ]
  },
  {
   "cell_type": "markdown",
   "metadata": {},
   "source": [
    "The average client ending the contract only staying with the company for 10 months, while the entire dataframe showed an average contract duration of around 30 months."
   ]
  },
  {
   "cell_type": "code",
   "execution_count": 39,
   "metadata": {},
   "outputs": [
    {
     "data": {
      "image/png": "[encoded data removed]",
      "text/plain": [
       "<Figure size 640x480 with 1 Axes>"
      ]
     },
     "metadata": {},
     "output_type": "display_data"
    }
   ],
   "source": [
    "#Plotting the distribution of the year the contract started\n",
    "ended['beginyear'].plot(kind='hist', title='Year distribution', xlabel='Contract starts')\n",
    "plt.show()"
   ]
  },
  {
   "cell_type": "markdown",
   "metadata": {},
   "source": [
    "Also, the clients that are leaving are mostly recent clients that started the contract in the last year. \n",
    "\n",
    "Since the clients aren't staying not even a year and 88.5% of them had a month to month type of contract, it seems like it would be advisable to try to push the yearly contract. "
   ]
  },
  {
   "cell_type": "markdown",
   "metadata": {},
   "source": [
    "### Splitting the data"
   ]
  },
  {
   "cell_type": "markdown",
   "metadata": {},
   "source": [
    "The data will be split into 3 sets: training, validation and test set. We will train the model on 60% of the data, then evaluate with 20% and have 20% of the data left to do a final test on the selected model."
   ]
  },
  {
   "cell_type": "code",
   "execution_count": 40,
   "metadata": {},
   "outputs": [],
   "source": [
    "#Defining features and target. We are dropping the contractended feature since it will be the target. Also dropping the enddate feature, since it contains the target information as well\n",
    "features = merged_df.drop(['contractended', 'enddate'], axis = 1)\n",
    "target = merged_df['contractended']"
   ]
  },
  {
   "cell_type": "code",
   "execution_count": 41,
   "metadata": {},
   "outputs": [],
   "source": [
    "#Splitting the data\n",
    "#Obtaining 20% of the total as the training set\n",
    "features_train, features_test, target_train, target_test = train_test_split(features, target, test_size=0.2, random_state=12345, stratify=target)\n",
    "#Obtaining 25% from 80% of the total that is now the training set in order to get 20% of the original total.\n",
    "features_train, features_valid, target_train, target_valid = train_test_split(features_train, target_train, test_size=0.25, random_state=12345, stratify=target_train)"
   ]
  },
  {
   "cell_type": "code",
   "execution_count": 42,
   "metadata": {},
   "outputs": [
    {
     "name": "stdout",
     "output_type": "stream",
     "text": [
      "The training set shape is (4225, 21)\n",
      "The validation set shape is (1409, 21)\n",
      "The test set shape is (1409, 21)\n"
     ]
    }
   ],
   "source": [
    "#Validating that the split was done correctly:\n",
    "print(f\"The training set shape is {features_train.shape}\")\n",
    "print(f\"The validation set shape is {features_valid.shape}\")\n",
    "print(f\"The test set shape is {features_test.shape}\")"
   ]
  },
  {
   "cell_type": "markdown",
   "metadata": {},
   "source": [
    "### Preparing the training data"
   ]
  },
  {
   "cell_type": "markdown",
   "metadata": {},
   "source": [
    "Before we can start training the models we still need to encode the categorical features that we have, scale the data and fix the class imbalance on the training data set."
   ]
  },
  {
   "cell_type": "code",
   "execution_count": 43,
   "metadata": {},
   "outputs": [
    {
     "name": "stdout",
     "output_type": "stream",
     "text": [
      "<class 'pandas.core.frame.DataFrame'>\n",
      "Int64Index: 4225 entries, 1398 to 3811\n",
      "Data columns (total 25 columns):\n",
      " #   Column                                 Non-Null Count  Dtype  \n",
      "---  ------                                 --------------  -----  \n",
      " 0   monthlycharges                         4225 non-null   float64\n",
      " 1   totalcharges                           4225 non-null   float64\n",
      " 2   beginyear                              4225 non-null   int64  \n",
      " 3   beginmonth                             4225 non-null   int64  \n",
      " 4   contractduration                       4225 non-null   int64  \n",
      " 5   seniorcitizen                          4225 non-null   int64  \n",
      " 6   phoneservice                           4225 non-null   int64  \n",
      " 7   type_One year                          4225 non-null   float64\n",
      " 8   type_Two year                          4225 non-null   float64\n",
      " 9   paperlessbilling_Yes                   4225 non-null   float64\n",
      " 10  paymentmethod_Credit card (automatic)  4225 non-null   float64\n",
      " 11  paymentmethod_Electronic check         4225 non-null   float64\n",
      " 12  paymentmethod_Mailed check             4225 non-null   float64\n",
      " 13  gender_Male                            4225 non-null   float64\n",
      " 14  partner_Yes                            4225 non-null   float64\n",
      " 15  dependents_Yes                         4225 non-null   float64\n",
      " 16  internetservice_Fiber optic            4225 non-null   float64\n",
      " 17  internetservice_No                     4225 non-null   float64\n",
      " 18  onlinesecurity_Yes                     4225 non-null   float64\n",
      " 19  onlinebackup_Yes                       4225 non-null   float64\n",
      " 20  deviceprotection_Yes                   4225 non-null   float64\n",
      " 21  techsupport_Yes                        4225 non-null   float64\n",
      " 22  streamingtv_Yes                        4225 non-null   float64\n",
      " 23  streamingmovies_Yes                    4225 non-null   float64\n",
      " 24  multiplelines_Yes                      4225 non-null   float64\n",
      "dtypes: float64(20), int64(5)\n",
      "memory usage: 858.2 KB\n",
      "None\n"
     ]
    }
   ],
   "source": [
    "#Applying One Hot encoding to the categorical data\n",
    "# Specifying the columns to one-hot encode\n",
    "def encoding(features):\n",
    "    categorical_cols = ['type', 'paperlessbilling', 'paymentmethod', 'gender', 'partner', 'dependents', 'internetservice', 'onlinesecurity', 'onlinebackup', 'deviceprotection', 'techsupport', 'streamingtv', 'streamingmovies', 'multiplelines']\n",
    "    \n",
    "    # Initializing the OneHotEncoder\n",
    "    encoder = OneHotEncoder(sparse=False, drop='first') \n",
    "    \n",
    "    # Fit and transform the specified columns\n",
    "    encoded_features = encoder.fit_transform(features[categorical_cols])\n",
    "    \n",
    "    # Create a DataFrame from the encoded features\n",
    "    encoded_features_df = pd.DataFrame(encoded_features, columns=encoder.get_feature_names(categorical_cols))\n",
    "    \n",
    "    #Maintaining the original index\n",
    "    encoded_features_df.index = features.index \n",
    "    \n",
    "    # Concatenate the encoded DataFrame with the original DataFrame (excluding the original categorical columns)\n",
    "    features_enc = pd.concat([features.drop(columns=categorical_cols), encoded_features_df], axis=1)\n",
    "\n",
    "    return features_enc\n",
    "\n",
    "#Applying the function to the training set features\n",
    "\n",
    "features_train_enc = encoding(features_train)\n",
    "\n",
    "#Verifying that all the info in the new features_train_enc has the right type of information\n",
    "\n",
    "print(features_train_enc.info())"
   ]
  },
  {
   "cell_type": "markdown",
   "metadata": {},
   "source": [
    "All the features are now a numerical type of information. Now that this was done, we will proceed with upsampling the data so that we have a bigger amount of observations showing clients that ended the contract:"
   ]
  },
  {
   "cell_type": "code",
   "execution_count": 44,
   "metadata": {},
   "outputs": [
    {
     "name": "stdout",
     "output_type": "stream",
     "text": [
      "The features_upsampled set shape is (14314, 25)\n",
      "The target_upsampled set shape is (14314,)\n"
     ]
    }
   ],
   "source": [
    "#Fixing class imbalance - upsampling\n",
    "#Defining the upsample funciton\n",
    "def upsample(features, target, repeat):\n",
    "    features_zeros = features[target == 0]\n",
    "    features_ones = features[target == 1]\n",
    "    target_zeros = target[target == 0]\n",
    "    target_ones = target[target == 1]\n",
    "\n",
    "    features_upsampled = pd.concat([features_zeros] + [features_ones] * repeat)\n",
    "    target_upsampled = pd.concat([target_zeros] + [target_ones] * repeat)\n",
    "\n",
    "    features_upsampled, target_upsampled = shuffle(\n",
    "        features_upsampled, target_upsampled, random_state=12345)\n",
    "\n",
    "    return features_upsampled, target_upsampled\n",
    "\n",
    "#Applying the function\n",
    "features_upsampled, target_upsampled = upsample(\n",
    "    features_train_enc, target_train, 10)\n",
    "\n",
    "#Validating the results by obtaining the shape of the new training data:\n",
    "print(f\"The features_upsampled set shape is {features_upsampled.shape}\")\n",
    "print(f\"The target_upsampled set shape is {target_upsampled.shape}\")"
   ]
  },
  {
   "cell_type": "code",
   "execution_count": 45,
   "metadata": {},
   "outputs": [
    {
     "name": "stdout",
     "output_type": "stream",
     "text": [
      "[[ 1.01850021 -0.17196106  0.26712629  0.5423725  -0.3391279  -0.54629641\n",
      "   0.3168592  -0.37865824 -0.30932635  0.64289162  2.31433098 -1.0101112\n",
      "  -0.45979154 -1.00167809 -0.80647958 -0.52664164  0.77531837 -0.34518921\n",
      "   2.00078628  1.51797479 -0.65212831 -0.50645413  1.1643995   1.13186375\n",
      "  -0.89825773]\n",
      " [-1.91505736 -0.13891149 -2.024197   -1.4748747   2.23769207 -0.54629641\n",
      "   0.3168592  -0.37865824  3.23283158 -1.55547213 -0.43209031 -1.0101112\n",
      "  -0.45979154  0.99832472  1.239957    1.8988244  -1.28979274  2.89696193\n",
      "  -0.49980351 -0.65877247 -0.65212831 -0.50645413 -0.85881177 -0.88349857\n",
      "  -0.89825773]\n",
      " [-0.25295848  0.10671523 -0.30570453 -1.18669653  0.38418999 -0.54629641\n",
      "   0.3168592  -0.37865824 -0.30932635 -1.55547213  2.31433098 -1.0101112\n",
      "  -0.45979154 -1.00167809 -0.80647958 -0.52664164 -1.28979274 -0.34518921\n",
      "   2.00078628 -0.65877247  1.53344056  1.97451248 -0.85881177 -0.88349857\n",
      "   1.11326623]\n",
      " [-1.94886276 -0.86205168  0.83995711  0.83055067 -0.97203105 -0.54629641\n",
      "   0.3168592  -0.37865824 -0.30932635  0.64289162 -0.43209031 -1.0101112\n",
      "   2.17489865  0.99832472 -0.80647958 -0.52664164 -1.28979274  2.89696193\n",
      "  -0.49980351 -0.65877247 -0.65212831 -0.50645413 -0.85881177 -0.88349857\n",
      "  -0.89825773]]\n"
     ]
    }
   ],
   "source": [
    "#Scaling the data\n",
    "def scaling(features):\n",
    "    scaler = StandardScaler() \n",
    "    features_scaled = scaler.fit_transform(features)\n",
    "    return features_scaled\n",
    "\n",
    "#Applying the scaling function to the features_upsampled set\n",
    "features_upsampled = scaling(features_upsampled)\n",
    "print(features_upsampled[0:4])\n",
    "   "
   ]
  },
  {
   "cell_type": "markdown",
   "metadata": {},
   "source": [
    "The features_upsampled is now ready. All the info is numerical, the positive results in the target were upsampled, and the data was scaled to avoid giving more importance to one feature over another.\n",
    "\n",
    "Additionally, we are going to scale the the features_train_enc set, since it is the same training set with the encoding but no upsampling. This set will be used when we are using the parameters of the models themselves to deal with the class imbalance."
   ]
  },
  {
   "cell_type": "code",
   "execution_count": 46,
   "metadata": {},
   "outputs": [
    {
     "name": "stdout",
     "output_type": "stream",
     "text": [
      "[[ 0.6525318  -0.15345467  0.57634469 -1.23088184 -0.34664974 -0.4414215\n",
      "   0.33003619 -0.50184844 -0.56268067  0.82133656 -0.52760412  1.40249577\n",
      "  -0.54187762 -1.02954881 -0.97498727 -0.65963799  1.12923647 -0.52467057\n",
      "   1.5748748  -0.72703629 -0.71755131  1.56043563 -0.79254717 -0.80726761\n",
      "   1.18000518]\n",
      " [-1.31002773 -0.42245636 -0.9532133   1.00576168  0.79622592 -0.4414215\n",
      "   0.33003619 -0.50184844  1.77720696 -1.21752769  1.89536047 -0.71301463\n",
      "  -0.54187762  0.97129927 -0.97498727  1.51598302 -0.88555411  1.90595788\n",
      "  -0.63497111 -0.72703629 -0.71755131 -0.64084669 -0.79254717 -0.80726761\n",
      "   1.18000518]\n",
      " [-1.50210803 -0.66770229  0.06649203 -1.51046228  0.1839711  -0.4414215\n",
      "   0.33003619 -0.50184844  1.77720696 -1.21752769 -0.52760412 -0.71301463\n",
      "   1.84543514 -1.02954881 -0.97498727 -0.65963799 -0.88555411  1.90595788\n",
      "  -0.63497111 -0.72703629 -0.71755131 -0.64084669 -0.79254717 -0.80726761\n",
      "  -0.84745391]\n",
      " [ 0.35188438 -0.98365839  1.08619736  1.56492256 -1.28544047  2.26540846\n",
      "   0.33003619 -0.50184844 -0.56268067  0.82133656 -0.52760412  1.40249577\n",
      "  -0.54187762  0.97129927 -0.97498727 -0.65963799  1.12923647 -0.52467057\n",
      "  -0.63497111 -0.72703629 -0.71755131 -0.64084669 -0.79254717 -0.80726761\n",
      "   1.18000518]]\n"
     ]
    }
   ],
   "source": [
    "#Applying the scaling function to the features_train_enc set\n",
    "features_train_enc = scaling(features_train_enc)\n",
    "print(features_train_enc[0:4])"
   ]
  },
  {
   "cell_type": "markdown",
   "metadata": {},
   "source": [
    "### Preparing the validation set"
   ]
  },
  {
   "cell_type": "code",
   "execution_count": 47,
   "metadata": {},
   "outputs": [
    {
     "name": "stdout",
     "output_type": "stream",
     "text": [
      "<class 'pandas.core.frame.DataFrame'>\n",
      "Int64Index: 1409 entries, 2018 to 988\n",
      "Data columns (total 25 columns):\n",
      " #   Column                                 Non-Null Count  Dtype  \n",
      "---  ------                                 --------------  -----  \n",
      " 0   monthlycharges                         1409 non-null   float64\n",
      " 1   totalcharges                           1409 non-null   float64\n",
      " 2   beginyear                              1409 non-null   int64  \n",
      " 3   beginmonth                             1409 non-null   int64  \n",
      " 4   contractduration                       1409 non-null   int64  \n",
      " 5   seniorcitizen                          1409 non-null   int64  \n",
      " 6   phoneservice                           1409 non-null   int64  \n",
      " 7   type_One year                          1409 non-null   float64\n",
      " 8   type_Two year                          1409 non-null   float64\n",
      " 9   paperlessbilling_Yes                   1409 non-null   float64\n",
      " 10  paymentmethod_Credit card (automatic)  1409 non-null   float64\n",
      " 11  paymentmethod_Electronic check         1409 non-null   float64\n",
      " 12  paymentmethod_Mailed check             1409 non-null   float64\n",
      " 13  gender_Male                            1409 non-null   float64\n",
      " 14  partner_Yes                            1409 non-null   float64\n",
      " 15  dependents_Yes                         1409 non-null   float64\n",
      " 16  internetservice_Fiber optic            1409 non-null   float64\n",
      " 17  internetservice_No                     1409 non-null   float64\n",
      " 18  onlinesecurity_Yes                     1409 non-null   float64\n",
      " 19  onlinebackup_Yes                       1409 non-null   float64\n",
      " 20  deviceprotection_Yes                   1409 non-null   float64\n",
      " 21  techsupport_Yes                        1409 non-null   float64\n",
      " 22  streamingtv_Yes                        1409 non-null   float64\n",
      " 23  streamingmovies_Yes                    1409 non-null   float64\n",
      " 24  multiplelines_Yes                      1409 non-null   float64\n",
      "dtypes: float64(20), int64(5)\n",
      "memory usage: 286.2 KB\n",
      "None\n"
     ]
    }
   ],
   "source": [
    "#Encoding the features of the validation set\n",
    "features_valid_enc = encoding(features_valid)\n",
    "print(features_valid_enc.info())\n"
   ]
  },
  {
   "cell_type": "code",
   "execution_count": 48,
   "metadata": {},
   "outputs": [
    {
     "name": "stdout",
     "output_type": "stream",
     "text": [
      "[[-0.60919781 -0.96734944  1.06635586  0.98534661 -1.26124848 -0.45651375\n",
      "   0.33346475 -0.51570136 -0.58472623  0.86495026 -0.50354614 -0.68501007\n",
      "   1.71984452 -0.94138808 -0.94676612 -0.61645729 -0.86244529 -0.54536385\n",
      "  -0.64283724 -0.72791404 -0.7336277  -0.63732851 -0.78947571 -0.7566668\n",
      "  -0.85869743]\n",
      " [ 0.55010202 -0.80718635  1.06635586 -0.42186338 -1.1010737  -0.45651375\n",
      "   0.33346475 -0.51570136 -0.58472623  0.86495026 -0.50354614  1.45983256\n",
      "  -0.58144791  1.06226117 -0.94676612 -0.61645729  1.15949384 -0.54536385\n",
      "  -0.64283724 -0.72791404 -0.7336277  -0.63732851  1.26666342 -0.7566668\n",
      "  -0.85869743]\n",
      " [-0.47947446 -0.94753723  1.06635586  0.98534661 -1.22120478  2.19051453\n",
      "   0.33346475 -0.51570136 -0.58472623  0.86495026 -0.50354614  1.45983256\n",
      "  -0.58144791  1.06226117 -0.94676612 -0.61645729 -0.86244529 -0.54536385\n",
      "   1.55560371 -0.72791404 -0.7336277  -0.63732851 -0.78947571 -0.7566668\n",
      "  -0.85869743]\n",
      " [-1.26602491 -0.95331219  1.06635586  0.98534661 -1.18116109  2.19051453\n",
      "  -2.99881773 -0.51570136 -0.58472623 -1.15613584 -0.50354614  1.45983256\n",
      "  -0.58144791 -0.94138808 -0.94676612 -0.61645729 -0.86244529 -0.54536385\n",
      "  -0.64283724 -0.72791404 -0.7336277  -0.63732851 -0.78947571 -0.7566668\n",
      "  -0.85869743]]\n"
     ]
    }
   ],
   "source": [
    "#Scaling the features on the validation set\n",
    "features_valid_enc = scaling(features_valid_enc)\n",
    "print(features_valid_enc[0:4])\n"
   ]
  },
  {
   "cell_type": "markdown",
   "metadata": {},
   "source": [
    "Now that both the training and validation set are ready, we can proceed with training the models."
   ]
  },
  {
   "cell_type": "markdown",
   "metadata": {},
   "source": [
    "### Training a Dummy model for a Sanity check"
   ]
  },
  {
   "cell_type": "markdown",
   "metadata": {},
   "source": [
    "As a first model, we are creating a dummy model that predicts the classes randomly. So that the performance of the rest of the models can be compared to the random model's one."
   ]
  },
  {
   "cell_type": "code",
   "execution_count": 49,
   "metadata": {},
   "outputs": [],
   "source": [
    "dummy_clf = DummyClassifier(strategy=\"uniform\")\n",
    "dummy_clf.fit(features_upsampled, target_upsampled)\n",
    "predictions = dummy_clf.predict(features_valid_enc)"
   ]
  },
  {
   "cell_type": "markdown",
   "metadata": {},
   "source": [
    "For this entire project, we will be using both the accuracy score and the ROC-AUC one. In order to avoid code repetition, I created a score function that can be used to evaluate every model."
   ]
  },
  {
   "cell_type": "code",
   "execution_count": 50,
   "metadata": {},
   "outputs": [
    {
     "name": "stdout",
     "output_type": "stream",
     "text": [
      "Accuracy Score: 0.49396735273243436\n",
      "The AUC-ROC score is 0.5\n"
     ]
    },
    {
     "data": {
      "image/png": "[encoded data removed]",
      "text/plain": [
       "<Figure size 640x480 with 1 Axes>"
      ]
     },
     "metadata": {},
     "output_type": "display_data"
    }
   ],
   "source": [
    "#Creating the score function\n",
    "def score(features_valid, target_valid, predictions, model):\n",
    "    accuracy = accuracy_score(target_valid, predictions)\n",
    "    print(f\"Accuracy Score: {accuracy}\")\n",
    "\n",
    "    #Obtaining the ROC-AUC score\n",
    "    probabilities = model.predict_proba(features_valid)\n",
    "    probabilities_one = probabilities[:, 1]\n",
    "    auc_roc = roc_auc_score(target_valid, probabilities_one)\n",
    "    print('The AUC-ROC score is', auc_roc)\n",
    "\n",
    "    fpr, tpr, thresholds = roc_curve(target_valid, probabilities_one)\n",
    "\n",
    "    #Plotting the graph\n",
    "    plt.figure()\n",
    "    plt.plot(fpr, tpr)\n",
    "    # ROC curve \n",
    "    plt.plot([0, 1], [0, 1], linestyle='--')\n",
    "    plt.xlim([0.0, 1.0])\n",
    "    plt.ylim([0.0, 1.0])\n",
    "    plt.xlabel('False Positive Rate') \n",
    "    plt.ylabel('True Positive Rate') \n",
    "    plt.title('ROC curve')\n",
    "    plt.show()\n",
    "\n",
    "#Obtaining the scores for the Dummy model\n",
    "\n",
    "score(features_valid_enc, target_valid, predictions, dummy_clf)\n",
    "\n",
    "    "
   ]
  },
  {
   "cell_type": "markdown",
   "metadata": {},
   "source": [
    "The ROC curve shows us if a model is predicting more true positives or false positives. A random model for a binary classification task, is expected to predict 50% of the answers correctly. For that reason the line in the middle of the graph is overlapping with the one generated by the model. This model is behaving exactly as a random model should.\n",
    "\n",
    "We shoud se a curve towards the top of the graph for the next models, that will show us that the model is behaving better than the Dummy one."
   ]
  },
  {
   "cell_type": "markdown",
   "metadata": {},
   "source": [
    "### Decision tree"
   ]
  },
  {
   "cell_type": "code",
   "execution_count": 51,
   "metadata": {},
   "outputs": [
    {
     "name": "stdout",
     "output_type": "stream",
     "text": [
      "Accuracy Score: 0.7246273953158269\n",
      "The AUC-ROC score is 0.7092497868712703\n"
     ]
    },
    {
     "data": {
      "image/png": "[encoded data removed]",
      "text/plain": [
       "<Figure size 640x480 with 1 Axes>"
      ]
     },
     "metadata": {},
     "output_type": "display_data"
    }
   ],
   "source": [
    "#Training a decision tree model\n",
    "dtc = DecisionTreeClassifier(random_state=12345)\n",
    "dtc.fit(features_upsampled, target_upsampled)\n",
    "predicted_valid=dtc.predict(features_valid_enc)\n",
    "score(features_valid_enc, target_valid, predicted_valid, dtc)"
   ]
  },
  {
   "cell_type": "markdown",
   "metadata": {},
   "source": [
    "As expected, the Decision Tree is already getting a better score than the Dummy model. We have an AUC-ROC of 70.92 and an accuracy score of 72.4. This is way better than the 50 score of the random model. However, it is still far from a good model. "
   ]
  },
  {
   "cell_type": "markdown",
   "metadata": {},
   "source": [
    "### Random forest"
   ]
  },
  {
   "cell_type": "code",
   "execution_count": 52,
   "metadata": {},
   "outputs": [
    {
     "name": "stdout",
     "output_type": "stream",
     "text": [
      "Accuracy score of the best model on the validation set on the upsampled data: 0.7821149751596878 n_estimators: 10 best_depth: 17\n"
     ]
    }
   ],
   "source": [
    "#Training a Random Forest Classifier on the upsampled data\n",
    "#Defining a random forest function\n",
    "def r_forest(features_upsampled, features_valid, target_upsampled, target_valid):\n",
    "    best_score=0\n",
    "    best_est = 0\n",
    "    best_depth = 0\n",
    "    best_model = None\n",
    "   \n",
    "    for est in range(10, 101, 10):\n",
    "        for depth in range(1, 21, 1):\n",
    "            model = RandomForestClassifier(n_estimators=est, max_depth=depth, random_state=12345)\n",
    "            model.fit(features_upsampled, target_upsampled)\n",
    "            predictions_train = model.predict(features_upsampled)\n",
    "            predicted_valid = model.predict(features_valid)\n",
    "            score = accuracy_score(target_valid, predicted_valid)\n",
    "            if score > best_score:\n",
    "                best_score = score\n",
    "                best_est = est\n",
    "                best_depth = depth\n",
    "                best_model = model\n",
    "            \n",
    "        return best_score, best_est, best_depth, best_model, predicted_valid\n",
    "\n",
    "#Applying the function\n",
    "best_score, best_est, best_depth, best_model, predicted_valid =r_forest(features_upsampled, features_valid_enc, target_upsampled, target_valid)\n",
    "print('Accuracy score of the best model on the validation set on the upsampled data:', best_score, 'n_estimators:', best_est, 'best_depth:', best_depth)"
   ]
  },
  {
   "cell_type": "code",
   "execution_count": 53,
   "metadata": {},
   "outputs": [
    {
     "name": "stdout",
     "output_type": "stream",
     "text": [
      "Accuracy Score: 0.7785663591199432\n",
      "The AUC-ROC score is 0.828964840218037\n"
     ]
    },
    {
     "data": {
      "image/png": "[encoded data removed]",
      "text/plain": [
       "<Figure size 640x480 with 1 Axes>"
      ]
     },
     "metadata": {},
     "output_type": "display_data"
    }
   ],
   "source": [
    "\n",
    "#Obtaining the score\n",
    "score(features_valid_enc, target_valid, predicted_valid, best_model)\n"
   ]
  },
  {
   "cell_type": "code",
   "execution_count": 54,
   "metadata": {},
   "outputs": [
    {
     "name": "stdout",
     "output_type": "stream",
     "text": [
      "Accuracy score of the best model on the validation set: 0.829666430092264 n_estimators: 10 best_depth: 13\n"
     ]
    }
   ],
   "source": [
    "#Defining a random forest function considering the 'class_weight' parameter\n",
    "def r_forest(features_train, features_valid, target_train, target_valid):\n",
    "    best_score=0\n",
    "    best_est = 0\n",
    "    best_depth = 0\n",
    "    best_model = None\n",
    "   \n",
    "    for est in range(10, 101, 10):\n",
    "        for depth in range(1, 21, 1):\n",
    "            model = RandomForestClassifier(n_estimators=est, max_depth=depth, random_state=12345, class_weight='balanced')\n",
    "            model.fit(features_train, target_train)\n",
    "            predictions_train = model.predict(features_train)\n",
    "            predicted_valid = model.predict(features_valid)\n",
    "            score = accuracy_score(target_valid, predicted_valid)\n",
    "            if score > best_score:\n",
    "                best_score = score\n",
    "                best_est = est\n",
    "                best_depth = depth\n",
    "                best_model = model\n",
    "            \n",
    "        return best_score, best_est, best_depth, best_model, predicted_valid\n",
    "    \n",
    "#Applying the function   \n",
    "best_score, best_est, best_depth, best_model, predicted_valid=r_forest(features_train_enc, features_valid_enc, target_train, target_valid)\n",
    "print('Accuracy score of the best model on the validation set:', best_score, 'n_estimators:', best_est, 'best_depth:', best_depth)"
   ]
  },
  {
   "cell_type": "code",
   "execution_count": 55,
   "metadata": {},
   "outputs": [
    {
     "name": "stdout",
     "output_type": "stream",
     "text": [
      "Accuracy Score: 0.8048261178140526\n",
      "The AUC-ROC score is 0.8677245601798033\n"
     ]
    },
    {
     "data": {
      "image/png": "[encoded data removed]",
      "text/plain": [
       "<Figure size 640x480 with 1 Axes>"
      ]
     },
     "metadata": {},
     "output_type": "display_data"
    }
   ],
   "source": [
    "#Obtaining the score\n",
    "score(features_valid_enc, target_valid, predicted_valid, best_model)"
   ]
  },
  {
   "cell_type": "markdown",
   "metadata": {},
   "source": [
    "We trained two different Random Forest models. One using the upsampled database and another one using the class weight parameter of the model itself. Out of these two, we obtained a better result with the one that used the class weight parameter. It got a 86.77 AUC-ROC score, vs 82.89 of the other model."
   ]
  },
  {
   "cell_type": "markdown",
   "metadata": {},
   "source": [
    "### Linear regression"
   ]
  },
  {
   "cell_type": "code",
   "execution_count": 56,
   "metadata": {},
   "outputs": [
    {
     "name": "stdout",
     "output_type": "stream",
     "text": [
      "Accuracy Score: 0.40667139815471964\n",
      "The AUC-ROC score is 0.9838952181663179\n"
     ]
    },
    {
     "data": {
      "image/png": "[encoded data removed]",
      "text/plain": [
       "<Figure size 640x480 with 1 Axes>"
      ]
     },
     "metadata": {},
     "output_type": "display_data"
    }
   ],
   "source": [
    "#Training the model on the upsampled set\n",
    "model = LogisticRegression(random_state=12345, solver='liblinear')\n",
    "model.fit(features_upsampled, target_upsampled)\n",
    "predicted_valid = model.predict(features_valid_enc)\n",
    "score(features_valid_enc, target_valid, predicted_valid, model)"
   ]
  },
  {
   "cell_type": "code",
   "execution_count": 57,
   "metadata": {},
   "outputs": [
    {
     "name": "stdout",
     "output_type": "stream",
     "text": [
      "Accuracy Score: 0.914833215046132\n",
      "The AUC-ROC score is 0.9725826035288951\n"
     ]
    },
    {
     "data": {
      "image/png": "[encoded data removed]",
      "text/plain": [
       "<Figure size 640x480 with 1 Axes>"
      ]
     },
     "metadata": {},
     "output_type": "display_data"
    }
   ],
   "source": [
    "#Training the model with the 'class_weight' parameter\n",
    "model_cw = LogisticRegression(random_state=12345, solver='liblinear', class_weight='balanced')\n",
    "model_cw.fit(features_train_enc, target_train)\n",
    "predicted_valid = model_cw.predict(features_valid_enc)\n",
    "score(features_valid_enc, target_valid, predicted_valid, model_cw)"
   ]
  },
  {
   "cell_type": "markdown",
   "metadata": {},
   "source": [
    "We also trained two models for using the Logistic regression models. One with the upsampled training set, and another one using the class weight parameter to account for the class imbalance. Even though the AUC-ROC score seems to be better using the upsampled set, the accuracy score is behaving below the results obtained with the Dummy model. While the model trained using the class weight parameter, is giving a great result: 91.48 for the accuracy score and 97.25 on the AUC-ROC. These are great results. "
   ]
  },
  {
   "cell_type": "markdown",
   "metadata": {},
   "source": [
    "### Nearest neighbors"
   ]
  },
  {
   "cell_type": "code",
   "execution_count": 58,
   "metadata": {},
   "outputs": [],
   "source": [
    "\n",
    "#Defining the k_pred function that runs through the k values of 1 - 10, and returns the accuracy score for each one, selecting the best performance\n",
    "def k_pred(features_train, features_valid, target_train, target_valid):\n",
    "    best_score=0\n",
    "    best_k=0\n",
    "\n",
    "    for k in range(1, 11, 1):\n",
    "        model = KNeighborsClassifier(n_neighbors=k, metric='euclidean')\n",
    "        model.fit(features_train, target_train)\n",
    "        predicted_valid = model.predict(features_valid)\n",
    "        score = accuracy_score(target_valid, predicted_valid)\n",
    "        print(f'Accuracy score: {score:.2f}', 'for', k, 'neighbors')\n",
    "        if score > best_score:\n",
    "            best_score = score\n",
    "            best_k = k\n",
    "    print(f'Accuracy score of the best model on the validation set: {best_score:.2f}', 'n_neighbors:', best_k )\n",
    "    return best_score, best_k, predicted_valid\n",
    "\n"
   ]
  },
  {
   "cell_type": "code",
   "execution_count": 59,
   "metadata": {},
   "outputs": [
    {
     "name": "stdout",
     "output_type": "stream",
     "text": [
      "Accuracy score: 0.71 for 1 neighbors\n",
      "Accuracy score: 0.71 for 2 neighbors\n",
      "Accuracy score: 0.66 for 3 neighbors\n",
      "Accuracy score: 0.66 for 4 neighbors\n",
      "Accuracy score: 0.63 for 5 neighbors\n",
      "Accuracy score: 0.63 for 6 neighbors\n",
      "Accuracy score: 0.58 for 7 neighbors\n",
      "Accuracy score: 0.58 for 8 neighbors\n",
      "Accuracy score: 0.55 for 9 neighbors\n",
      "Accuracy score: 0.55 for 10 neighbors\n",
      "Accuracy score of the best model on the validation set: 0.71 n_neighbors: 1\n"
     ]
    }
   ],
   "source": [
    "\n",
    "#Applying the model on the upsampled set\n",
    "best_score, best_k, predicted_valid = k_pred(features_upsampled, features_valid_enc, target_upsampled, target_valid)\n"
   ]
  },
  {
   "cell_type": "code",
   "execution_count": 60,
   "metadata": {},
   "outputs": [
    {
     "name": "stdout",
     "output_type": "stream",
     "text": [
      "Accuracy score: 0.73 for 1 neighbors\n",
      "Accuracy score: 0.75 for 2 neighbors\n",
      "Accuracy score: 0.76 for 3 neighbors\n",
      "Accuracy score: 0.78 for 4 neighbors\n",
      "Accuracy score: 0.78 for 5 neighbors\n",
      "Accuracy score: 0.79 for 6 neighbors\n",
      "Accuracy score: 0.79 for 7 neighbors\n",
      "Accuracy score: 0.79 for 8 neighbors\n",
      "Accuracy score: 0.79 for 9 neighbors\n",
      "Accuracy score: 0.80 for 10 neighbors\n",
      "Accuracy score of the best model on the validation set: 0.80 n_neighbors: 10\n"
     ]
    }
   ],
   "source": [
    "#Applying the model on the set that isn't upsampled\n",
    "best_score, best_k, predicted_valid = k_pred(features_train_enc, features_valid_enc, target_train, target_valid)\n"
   ]
  },
  {
   "cell_type": "code",
   "execution_count": 61,
   "metadata": {},
   "outputs": [],
   "source": [
    "#Adjusting the function to consider the hyperparameter weights selecting the 'distance' option\n",
    "def k_pred_d(features_train, features_valid, target_train, target_valid):\n",
    "    best_score=0\n",
    "    best_k=0\n",
    "\n",
    "    for k in range(1, 11, 1):\n",
    "        model = KNeighborsClassifier(n_neighbors=k, metric='euclidean', weights='distance')\n",
    "        model.fit(features_train, target_train)\n",
    "        predicted_valid = model.predict(features_valid)\n",
    "        score = accuracy_score(target_valid, predicted_valid)\n",
    "        print(f'Accuracy score: {score:.2f}', 'for', k, 'neighbors')\n",
    "        if score > best_score:\n",
    "            best_score = score\n",
    "            best_k = k\n",
    "    print(f'Accuracy score of the best model on the validation set: {best_score:.2f}', 'n_neighbors:', best_k )\n",
    "    return best_score, best_k, predicted_valid\n",
    "\n"
   ]
  },
  {
   "cell_type": "code",
   "execution_count": 62,
   "metadata": {},
   "outputs": [
    {
     "name": "stdout",
     "output_type": "stream",
     "text": [
      "Accuracy score: 0.73 for 1 neighbors\n",
      "Accuracy score: 0.73 for 2 neighbors\n",
      "Accuracy score: 0.75 for 3 neighbors\n",
      "Accuracy score: 0.76 for 4 neighbors\n",
      "Accuracy score: 0.77 for 5 neighbors\n",
      "Accuracy score: 0.78 for 6 neighbors\n",
      "Accuracy score: 0.78 for 7 neighbors\n",
      "Accuracy score: 0.78 for 8 neighbors\n",
      "Accuracy score: 0.79 for 9 neighbors\n",
      "Accuracy score: 0.79 for 10 neighbors\n",
      "Accuracy score of the best model on the validation set: 0.79 n_neighbors: 10\n"
     ]
    }
   ],
   "source": [
    "#Applying the adjusted model on the set that isn't upsampled\n",
    "best_score, best_k, predicted_valid = k_pred_d(features_train_enc, features_valid_enc, target_train, target_valid)\n"
   ]
  },
  {
   "cell_type": "markdown",
   "metadata": {},
   "source": [
    "The best results were obtained using the set that wasn't upsampled and not using the weights parameter. However, the accuracy score is of 80, much lower than the previous one."
   ]
  },
  {
   "cell_type": "markdown",
   "metadata": {},
   "source": [
    "### CatBoost Classifier"
   ]
  },
  {
   "cell_type": "code",
   "execution_count": 63,
   "metadata": {},
   "outputs": [
    {
     "name": "stdout",
     "output_type": "stream",
     "text": [
      "Best Parameters: {'depth': 6, 'iterations': 200, 'learning_rate': 0.1}\n",
      "Best score on training set: 0.9857265299761794\n"
     ]
    }
   ],
   "source": [
    "#Tunning with GridSearchCV\n",
    "\n",
    "model = CatBoostClassifier(verbose=0)\n",
    "param_grid = {\n",
    "    'depth': [4, 6, 8],\n",
    "    'learning_rate': [0.1],\n",
    "    'iterations': [100, 200]\n",
    "}\n",
    "\n",
    "grid_search = GridSearchCV(estimator=model, param_grid=param_grid, scoring='roc_auc')\n",
    "grid_search.fit(features_train_enc, target_train)\n",
    "\n",
    "best_model = grid_search.best_estimator_\n",
    "best_params = grid_search.best_params_\n",
    "best_score = grid_search.best_score_\n",
    "\n",
    "print(\"Best Parameters:\", best_params)\n",
    "print(\"Best score on training set:\", best_score)\n"
   ]
  },
  {
   "cell_type": "code",
   "execution_count": 64,
   "metadata": {},
   "outputs": [
    {
     "name": "stdout",
     "output_type": "stream",
     "text": [
      "Accuracy Score: 0.9190915542938254\n",
      "The AUC-ROC score is 0.9332739156268566\n"
     ]
    },
    {
     "data": {
      "image/png": "[encoded data removed]",
      "text/plain": [
       "<Figure size 640x480 with 1 Axes>"
      ]
     },
     "metadata": {},
     "output_type": "display_data"
    }
   ],
   "source": [
    "#Applying the best parameters from the GridSearchCV on the CatBoostClassifier, to the validation set\n",
    "pred_valid = best_model.predict(features_valid_enc)\n",
    "score(features_valid_enc, target_valid, pred_valid, best_model)"
   ]
  },
  {
   "cell_type": "markdown",
   "metadata": {},
   "source": [
    "We tuned a CatBoost classifier with GridSearch CV, with this model, we are obtaining 93.3 AUC-ROC and 91.9 accuracy score. These are great scores, however, the logistic regression model is still behaving better."
   ]
  },
  {
   "cell_type": "markdown",
   "metadata": {},
   "source": [
    "### XGBClassifier"
   ]
  },
  {
   "cell_type": "code",
   "execution_count": 65,
   "metadata": {},
   "outputs": [
    {
     "name": "stderr",
     "output_type": "stream",
     "text": [
      "/.venv/lib/python3.9/site-packages/xgboost/sklearn.py:1224: UserWarning: The use of label encoder in XGBClassifier is deprecated and will be removed in a future release. To remove this warning, do the following: 1) Pass option use_label_encoder=False when constructing XGBClassifier object; and 2) Encode your labels (y) as integers starting with 0, i.e. 0, 1, 2, ..., [num_class - 1].\n",
      "  warnings.warn(label_encoder_deprecation_msg, UserWarning)\n"
     ]
    },
    {
     "data": {
      "text/plain": [
       "XGBClassifier(base_score=0.5, booster='gbtree', colsample_bylevel=1,\n",
       "              colsample_bynode=1, colsample_bytree=1, enable_categorical=False,\n",
       "              eval_metric='auc', gamma=0, gpu_id=-1, importance_type=None,\n",
       "              interaction_constraints='', learning_rate=0.1, max_delta_step=0,\n",
       "              max_depth=5, min_child_weight=1, missing=nan,\n",
       "              monotone_constraints='()', n_estimators=100, n_jobs=8,\n",
       "              num_parallel_tree=1, predictor='auto', random_state=0,\n",
       "              reg_alpha=0, reg_lambda=1, scale_pos_weight=4, subsample=1,\n",
       "              tree_method='exact', validate_parameters=1, verbosity=None)"
      ]
     },
     "execution_count": 65,
     "metadata": {},
     "output_type": "execute_result"
    }
   ],
   "source": [
    "xgb_model = xgb.XGBClassifier(objective='binary:logistic', eval_metric='auc', \n",
    "                                  n_estimators=100, learning_rate=0.1, max_depth=5, scale_pos_weight=4)\n",
    "xgb_model.fit(features_train_enc, target_train)"
   ]
  },
  {
   "cell_type": "code",
   "execution_count": 66,
   "metadata": {},
   "outputs": [
    {
     "name": "stdout",
     "output_type": "stream",
     "text": [
      "Accuracy Score: 0.8665720369056068\n",
      "The AUC-ROC score is 0.9189800821514376\n"
     ]
    },
    {
     "data": {
      "image/png": "[encoded data removed]",
      "text/plain": [
       "<Figure size 640x480 with 1 Axes>"
      ]
     },
     "metadata": {},
     "output_type": "display_data"
    }
   ],
   "source": [
    "predicted_valid = xgb_model.predict(features_valid_enc)\n",
    "score(features_valid_enc, target_valid, predicted_valid, xgb_model)"
   ]
  },
  {
   "cell_type": "markdown",
   "metadata": {},
   "source": [
    "As a final model, we also trained an XGB Classifier, the results are a little lower than the ones obtained with the CatBoost classifier and the logistic regression. "
   ]
  },
  {
   "cell_type": "markdown",
   "metadata": {},
   "source": [
    "### Final test"
   ]
  },
  {
   "cell_type": "markdown",
   "metadata": {},
   "source": [
    "The model with the best performance was the Logistic Regression using the set that wasn't upsampled and using the class weight parameter to account for the class imbalance. This is the model that will be tried on the final test. "
   ]
  },
  {
   "cell_type": "code",
   "execution_count": 67,
   "metadata": {},
   "outputs": [
    {
     "name": "stdout",
     "output_type": "stream",
     "text": [
      "<class 'pandas.core.frame.DataFrame'>\n",
      "Int64Index: 1409 entries, 6095 to 315\n",
      "Data columns (total 25 columns):\n",
      " #   Column                                 Non-Null Count  Dtype  \n",
      "---  ------                                 --------------  -----  \n",
      " 0   monthlycharges                         1409 non-null   float64\n",
      " 1   totalcharges                           1409 non-null   float64\n",
      " 2   beginyear                              1409 non-null   int64  \n",
      " 3   beginmonth                             1409 non-null   int64  \n",
      " 4   contractduration                       1409 non-null   int64  \n",
      " 5   seniorcitizen                          1409 non-null   int64  \n",
      " 6   phoneservice                           1409 non-null   int64  \n",
      " 7   type_One year                          1409 non-null   float64\n",
      " 8   type_Two year                          1409 non-null   float64\n",
      " 9   paperlessbilling_Yes                   1409 non-null   float64\n",
      " 10  paymentmethod_Credit card (automatic)  1409 non-null   float64\n",
      " 11  paymentmethod_Electronic check         1409 non-null   float64\n",
      " 12  paymentmethod_Mailed check             1409 non-null   float64\n",
      " 13  gender_Male                            1409 non-null   float64\n",
      " 14  partner_Yes                            1409 non-null   float64\n",
      " 15  dependents_Yes                         1409 non-null   float64\n",
      " 16  internetservice_Fiber optic            1409 non-null   float64\n",
      " 17  internetservice_No                     1409 non-null   float64\n",
      " 18  onlinesecurity_Yes                     1409 non-null   float64\n",
      " 19  onlinebackup_Yes                       1409 non-null   float64\n",
      " 20  deviceprotection_Yes                   1409 non-null   float64\n",
      " 21  techsupport_Yes                        1409 non-null   float64\n",
      " 22  streamingtv_Yes                        1409 non-null   float64\n",
      " 23  streamingmovies_Yes                    1409 non-null   float64\n",
      " 24  multiplelines_Yes                      1409 non-null   float64\n",
      "dtypes: float64(20), int64(5)\n",
      "memory usage: 286.2 KB\n",
      "None\n"
     ]
    }
   ],
   "source": [
    "#Preparing the test data by encoding and scaling\n",
    "features_test_enc = encoding(features_test)\n",
    "print(features_test_enc.info())"
   ]
  },
  {
   "cell_type": "code",
   "execution_count": 68,
   "metadata": {},
   "outputs": [
    {
     "name": "stdout",
     "output_type": "stream",
     "text": [
      "[[-1.52071354 -0.96202306  1.05889706  0.99838662 -1.14707573 -0.41850443\n",
      "   0.31338048 -0.54974368 -0.54207709  0.8206075  -0.53878849 -0.73134013\n",
      "   1.9349697   0.97962554 -0.96169818 -0.67496556 -0.90966849  1.96008275\n",
      "  -0.62194133 -0.71880777 -0.7336277  -0.63732851 -0.78356544 -0.80256299\n",
      "  -0.86997578]\n",
      " [ 0.281519    0.70214504 -0.97863924  0.99838662  0.82774928 -0.41850443\n",
      "   0.31338048  1.81902955 -0.54207709 -1.21860938  1.85601588 -0.73134013\n",
      "  -0.51680396 -1.02079821 -0.96169818 -0.67496556 -0.90966849 -0.51018254\n",
      "   1.60786869 -0.71880777  1.3630892   1.56904954  1.27621759 -0.80256299\n",
      "   1.14945729]\n",
      " [ 1.34926303  1.79302009 -0.97863924 -1.49728473  1.19802897 -0.41850443\n",
      "   0.31338048 -0.54974368 -0.54207709  0.8206075  -0.53878849  1.36735283\n",
      "  -0.51680396  0.97962554  1.03982728 -0.67496556  1.09930157 -0.51018254\n",
      "   1.60786869  1.39119253 -0.7336277  -0.63732851  1.27621759  1.24600812\n",
      "   1.14945729]\n",
      " [ 0.16048591 -0.96080008  1.56828114 -1.49728473 -1.27050229 -0.41850443\n",
      "   0.31338048 -0.54974368 -0.54207709  0.8206075  -0.53878849  1.36735283\n",
      "  -0.51680396  0.97962554 -0.96169818 -0.67496556  1.09930157 -0.51018254\n",
      "  -0.62194133 -0.71880777 -0.7336277  -0.63732851 -0.78356544 -0.80256299\n",
      "  -0.86997578]]\n"
     ]
    }
   ],
   "source": [
    "features_test_enc = scaling(features_test_enc)\n",
    "print(features_test_enc[0:4])\n"
   ]
  },
  {
   "cell_type": "code",
   "execution_count": 69,
   "metadata": {},
   "outputs": [
    {
     "name": "stdout",
     "output_type": "stream",
     "text": [
      "Accuracy Score: 0.9020581973030518\n",
      "The AUC-ROC score is 0.9749050608385648\n"
     ]
    },
    {
     "data": {
      "image/png": "[encoded data removed]",
      "text/plain": [
       "<Figure size 640x480 with 1 Axes>"
      ]
     },
     "metadata": {},
     "output_type": "display_data"
    }
   ],
   "source": [
    "#Applying the LogisticRegression model with the 'class_weight' parameter\n",
    "predicted_test = model_cw.predict(features_test_enc)\n",
    "score(features_test_enc, target_test, predicted_test, model_cw)"
   ]
  },
  {
   "cell_type": "markdown",
   "metadata": {},
   "source": [
    "We obtained a 97.4 AUC-ROC score on the test set, and a 90.2 accuracy score. This is a very good result. For this reason, we can conclude that the Logistic Regression model with the class weight parameter is the best one for this task. "
   ]
  },
  {
   "cell_type": "markdown",
   "metadata": {},
   "source": []
  },
  {
   "cell_type": "markdown",
   "metadata": {},
   "source": [
    "### Conclusions"
   ]
  },
  {
   "cell_type": "markdown",
   "metadata": {},
   "source": [
    "The best model for this task is the Logistic Regression model with the following parameters: solver='liblinear', class_weight='balanced'.\n",
    "\n",
    "We obtained the best results on the validation and test sets with this model.\n",
    "\n",
    "While performing the EDA some relevant information was also discovered: the clients have only being leaving recently-since October 2019,it seems like there is something going on in the market that is attracting them somewhere else. Most of the client that are leaving haven't been an entire year with the company. Most of them have a month to month type of contract - 82.5%. It would be advisable to consider this information for the marketing strategy."
   ]
  }
 ],
 "metadata": {
  "ExecuteTimeLog": [
   {
    "duration": 3,
    "start_time": "2025-10-02T20:26:43.960Z"
   }
  ],
  "kernelspec": {
   "display_name": "Python 3 (ipykernel)",
   "language": "python",
   "name": "python3"
  },
  "language_info": {
   "codemirror_mode": {
    "name": "ipython",
    "version": 3
   },
   "file_extension": ".py",
   "mimetype": "text/x-python",
   "name": "python",
   "nbconvert_exporter": "python",
   "pygments_lexer": "ipython3",
   "version": "3.9.19"
  },
  "toc": {
   "base_numbering": 1,
   "nav_menu": {},
   "number_sections": true,
   "sideBar": true,
   "skip_h1_title": true,
   "title_cell": "Table of Contents",
   "title_sidebar": "Contents",
   "toc_cell": false,
   "toc_position": {},
   "toc_section_display": true,
   "toc_window_display": false
  }
 },
 "nbformat": 4,
 "nbformat_minor": 4
}
